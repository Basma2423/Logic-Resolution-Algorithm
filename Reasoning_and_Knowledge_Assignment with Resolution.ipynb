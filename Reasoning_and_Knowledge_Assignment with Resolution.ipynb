{
  "cells": [
    {
      "cell_type": "markdown",
      "source": [
        "# Reasoning and Knowledge Representation Assignment\n",
        "\n",
        "Names:\n",
        "\n",
        "*Selsabeel Asim Ali Elbagir, 20210714*\n",
        "\n",
        "*Basma Mahmoud Hashem, 20210091*\n",
        "\n",
        "Section:\n",
        "*S2*"
      ],
      "metadata": {
        "id": "ESlgFueo1_Cd"
      }
    },
    {
      "cell_type": "markdown",
      "metadata": {
        "id": "1lqxebzi7gIy"
      },
      "source": [
        "## Converting to CNF form"
      ]
    },
    {
      "cell_type": "code",
      "execution_count": null,
      "metadata": {
        "id": "Qy1WHKWzen8B"
      },
      "outputs": [],
      "source": [
        "KB = ['∀x (Read(x) → ~Stupid(x))',\n",
        "      'Read(John) ∧ Wealthy(John)',\n",
        "      '∀x (Poor(x) → ~Wealthy(x))',\n",
        "      '∀x Stupid(x) ∨ Smart(x)',\n",
        "      '∀x ((~Poor(x) ∧ Smart(x)) → Happy(x))',\n",
        "      '∀x (~Exciting(x) → ~Happy(x))']"
      ]
    },
    {
      "cell_type": "markdown",
      "metadata": {
        "id": "dkkeHEvR7nB_"
      },
      "source": [
        "### Helper Functions"
      ]
    },
    {
      "cell_type": "code",
      "execution_count": null,
      "metadata": {
        "id": "eLDwSdjBe2Xa"
      },
      "outputs": [],
      "source": [
        "import re"
      ]
    },
    {
      "cell_type": "code",
      "execution_count": null,
      "metadata": {
        "id": "mHphDoDLaEL6"
      },
      "outputs": [],
      "source": [
        "def replace_variable_in_context(formula, variable, replacement):\n",
        "\n",
        "    tokens = tokenize_formula(formula)\n",
        "    new_tokens = []\n",
        "\n",
        "    for token in tokens:\n",
        "        if token == variable:                 # Three Conditions:\n",
        "            if (                              # (HERE,\n",
        "                (token + ',') in formula or   # ,HERE)\n",
        "                (token + ', ') in formula or  # (HERE)\n",
        "                (',' + token) in formula or\n",
        "                (', ' + token) in formula or\n",
        "                f'({token})' in formula\n",
        "            ):\n",
        "                new_token = replacement\n",
        "            else:\n",
        "                new_token = token\n",
        "        else:\n",
        "            new_token = token\n",
        "\n",
        "        new_tokens.append(new_token)\n",
        "\n",
        "    return \"\".join(new_tokens)\n",
        "\n",
        "def tokenize_formula(formula):\n",
        "    tokens = []\n",
        "    current_token = \"\"\n",
        "\n",
        "    for char in formula:              # Tokenize but add the spaces\n",
        "        if char in (',', '(', ')'):   # , the commas, and the brackets\n",
        "            if current_token:\n",
        "                tokens.append(current_token.strip())\n",
        "            current_token = \"\"\n",
        "            tokens.append(char)\n",
        "        elif char.isspace():\n",
        "            if current_token:\n",
        "                tokens.append(current_token.strip())\n",
        "            current_token = \"\"\n",
        "            tokens.append(char)\n",
        "        else:\n",
        "            current_token += char\n",
        "\n",
        "    if current_token:\n",
        "        tokens.append(current_token.strip())\n",
        "\n",
        "    return tokens"
      ]
    },
    {
      "cell_type": "code",
      "execution_count": null,
      "metadata": {
        "id": "NFjkbZKevCzN"
      },
      "outputs": [],
      "source": [
        "def replace_operator_in_context(formula_tokens, operator, replacement):\n",
        "    # Replace the operator with the replacement character or substring in the specified context\n",
        "    new_tokens = []\n",
        "\n",
        "    for token in formula_tokens:\n",
        "        if token == operator:\n",
        "            new_token = replacement\n",
        "        else:\n",
        "            new_token = token\n",
        "\n",
        "        new_tokens.append(new_token)\n",
        "\n",
        "    return new_tokens\n"
      ]
    },
    {
      "cell_type": "code",
      "source": [
        "def rename_variables(tokens, quantifier_variable, start_index, end_index):\n",
        "    variable_count = {}\n",
        "    for i in range(start_index, end_index):\n",
        "        token = tokens[i]\n",
        "        if token.isalpha() and token.islower() and token == quantifier_variable:\n",
        "            if token in variable_count:\n",
        "                variable_count[token] += 1\n",
        "            else:\n",
        "                variable_count[token] = 1\n",
        "            new_variable = token + str(variable_count[token])\n",
        "            tokens[i] = new_variable"
      ],
      "metadata": {
        "id": "xSZzcg_pvji_"
      },
      "execution_count": null,
      "outputs": []
    },
    {
      "cell_type": "code",
      "execution_count": null,
      "metadata": {
        "id": "gSwGRWeevFPF"
      },
      "outputs": [],
      "source": [
        "def get_surrounding_bracket(formula_tokens, operator):\n",
        "    left_bracket_index = None\n",
        "    right_bracket_index = None\n",
        "    operator_index = None\n",
        "    for i, token in enumerate(formula_tokens):\n",
        "        if token == operator or token.startswith(operator):\n",
        "            operator_index = i\n",
        "            break\n",
        "\n",
        "    if operator_index is None:\n",
        "        return None, None  # if operator isn't there\n",
        "    bracket_counter = 0\n",
        "    for i in range(operator_index - 1, -1, -1):\n",
        "        if formula_tokens[i].startswith(')'):\n",
        "            bracket_counter += 1\n",
        "        elif formula_tokens[i] == '(':\n",
        "            if bracket_counter == 0:\n",
        "                left_bracket_index = i\n",
        "                break\n",
        "            else:\n",
        "                bracket_counter -= 1\n",
        "    bracket_counter = 0\n",
        "    for i in range(operator_index + 1, len(formula_tokens)):\n",
        "        if formula_tokens[i].startswith('('):\n",
        "            bracket_counter += 1\n",
        "        elif formula_tokens[i] == ')':\n",
        "            if bracket_counter == 0:\n",
        "                right_bracket_index = i\n",
        "                break\n",
        "            else:\n",
        "                bracket_counter -= 1\n",
        "\n",
        "    return left_bracket_index, right_bracket_index\n"
      ]
    },
    {
      "cell_type": "code",
      "execution_count": null,
      "metadata": {
        "id": "Ucsh0WZTcGw8"
      },
      "outputs": [],
      "source": [
        "def find_matching_parenthesis(tokens, start_index):\n",
        "    bracket_count = 0\n",
        "    for i in range(start_index, len(tokens)):\n",
        "        if tokens[i] == '(':\n",
        "            bracket_count += 1\n",
        "        elif tokens[i] == ')':\n",
        "            bracket_count -= 1\n",
        "            if bracket_count == 0:\n",
        "                return i\n",
        "    return -1\n"
      ]
    },
    {
      "cell_type": "markdown",
      "source": [
        "### The Ten Steps of CNF Conversion"
      ],
      "metadata": {
        "id": "tt6MSSWG2g-T"
      }
    },
    {
      "cell_type": "code",
      "execution_count": null,
      "metadata": {
        "id": "AtVo1t0PDnF4"
      },
      "outputs": [],
      "source": [
        "def eliminate_implication(formula):\n",
        "  tokens = tokenize_formula(formula)\n",
        "  left_bracket_index, right = get_surrounding_bracket(tokens, '→')\n",
        "  if left_bracket_index is not None and left_bracket_index > 0:\n",
        "    tokens.insert(left_bracket_index + 1 , '~')  # Insert '~' before the left bracket\n",
        "  replaced_tokens = replace_operator_in_context(tokens, '→', '∨')\n",
        "  replaced_formula = \"\".join(replaced_tokens)\n",
        "  return replaced_formula\n"
      ]
    },
    {
      "cell_type": "code",
      "execution_count": null,
      "metadata": {
        "id": "9HOCpR_JcCha"
      },
      "outputs": [],
      "source": [
        "def move_negation_inwards(formula):\n",
        "    tokens = tokenize_formula(formula)\n",
        "    negation_indices = [i for i, token in enumerate(tokens) if token == '~']\n",
        "\n",
        "    for index in negation_indices:\n",
        "      if index < len(tokens) - 1:  # Check if negation is not the last token\n",
        "        next_token = tokens[index + 1]\n",
        "        if next_token == '(' or next_token.startswith('('):  # Check if negation is followed by a left bracket\n",
        "          right_bracket_index = find_matching_parenthesis(tokens,index+1)\n",
        "          for i in range(index,right_bracket_index):\n",
        "            if tokens[i] == '∧':\n",
        "              tokens[i] = '∨'\n",
        "            elif tokens[i] == '∨':\n",
        "              tokens[i] = '∧'\n",
        "            elif tokens[i] == '∃':\n",
        "              tokens[i] = '∀'\n",
        "            elif tokens[i] == '∀':\n",
        "              tokens[i] = '∃'\n",
        "            elif tokens[i].isalpha() and tokens[i][0].isupper():\n",
        "              tokens[i] = '~' + tokens[i]\n",
        "\n",
        "          tokens.pop(index)\n",
        "          tokens[index+1] = '~' + tokens[index+1]\n",
        "    replaced_formula = \"\".join(tokens)\n",
        "    return replaced_formula\n"
      ]
    },
    {
      "cell_type": "code",
      "execution_count": null,
      "metadata": {
        "id": "mzVIDffvDpqH"
      },
      "outputs": [],
      "source": [
        "def remove_double_not(formula):\n",
        "  tokens = tokenize_formula(formula)\n",
        "  for i, token in enumerate(tokens):\n",
        "    if token.startswith('~~'):\n",
        "      if len(token) == 2:\n",
        "        tokens.removeAt(i)\n",
        "      else:\n",
        "        tokens[i] = token[len('~~'):]\n",
        "    elif token.startswith('~') and tokens[i+2].startswith('~'):\n",
        "      i = i+2\n",
        "      tokens[i] = tokens[i][1:] # removes the ~ before the (\n",
        "      tokens.pop(i-1) # removes the (\n",
        "      tokens.pop(i-2)# removes the ~ before it\n",
        "      tokens.pop(i+1) #removes the ) of the scope\n",
        "\n",
        "\n",
        "  return \"\".join(tokens)"
      ]
    },
    {
      "cell_type": "code",
      "execution_count": null,
      "metadata": {
        "id": "kKsD72QNDuTq",
        "colab": {
          "base_uri": "https://localhost:8080/"
        },
        "outputId": "29399e24-f4af-443e-88af-b759efe6fab2"
      },
      "outputs": [
        {
          "output_type": "stream",
          "name": "stdout",
          "text": [
            "Standardized formula: ∀x (P(x)) ∀x (Q(x1, y))\n"
          ]
        }
      ],
      "source": [
        "def standardize_variables(formula):\n",
        "    tokens = tokenize_formula(formula)\n",
        "    size = len(tokens)\n",
        "    i = 0\n",
        "    while i < size:\n",
        "        if tokens[i].startswith('∀') or tokens[i].startswith('∃'):\n",
        "            quantifier_variable = tokens[i][1]  # get the variable of the quantifier\n",
        "            if tokens[i+1] == '(':\n",
        "              start_scope_index = i + 1\n",
        "            elif tokens[i+2] == '(' and tokens[i+1] == ' ':\n",
        "              start_scope_index = i + 2  # gets the index of the (, beginning of our scope\n",
        "\n",
        "            end_scope_index = find_matching_parenthesis(tokens, start_scope_index)\n",
        "            rename_variables(tokens, quantifier_variable, end_scope_index, size)\n",
        "            i = end_scope_index + 1\n",
        "        else:\n",
        "            i += 1\n",
        "\n",
        "    standardized_formula = \"\".join(tokens)\n",
        "    return standardized_formula\n",
        "\n",
        "ex = \"∀x (P(x)) ∀x (Q(x, y))\"\n",
        "standardized_formula = standardize_variables(ex)\n",
        "print(\"Standardized formula:\", standardized_formula)"
      ]
    },
    {
      "cell_type": "code",
      "execution_count": null,
      "metadata": {
        "colab": {
          "base_uri": "https://localhost:8080/"
        },
        "id": "ShPKeumwEKrg",
        "outputId": "8944e3a6-1dda-4983-d897-02b9682a71ba"
      },
      "outputs": [
        {
          "output_type": "stream",
          "name": "stdout",
          "text": [
            "Original formula: ∀x (P(x, y) ∧ ∃y Q(x))\n",
            "Prenex form: ∀x∃y (P(x, y) ∧  Q(x))\n"
          ]
        }
      ],
      "source": [
        "def prenex_form(input_formula):\n",
        "    tokens = tokenize_formula(input_formula)\n",
        "    prenex_part = []\n",
        "    not_prenex_part = []\n",
        "    i = 0\n",
        "    while i < len(tokens):\n",
        "        token = tokens[i]\n",
        "        if token.startswith('∀') or token.startswith('∃'):\n",
        "            quantifier = token\n",
        "            variables = []\n",
        "            while i + 1 < len(tokens) and tokens[i + 1].isalnum():\n",
        "                variables.append(tokens[i + 1])\n",
        "                i += 1\n",
        "            prenex_part.append((quantifier, variables))\n",
        "        else:\n",
        "            not_prenex_part.append(token)\n",
        "        i += 1\n",
        "\n",
        "    prenex_formula = \"\"\n",
        "    for quantifier, variables in prenex_part:\n",
        "        prenex_formula += quantifier + ' '.join(variables)\n",
        "    prenex_formula += ''.join(not_prenex_part)\n",
        "\n",
        "    return prenex_formula\n",
        "\n",
        "formula = \"∀x (P(x, y) ∧ ∃y Q(x))\"\n",
        "print(\"Original formula:\", formula)\n",
        "\n",
        "prenex_formula = prenex_form(formula)\n",
        "print(\"Prenex form:\", prenex_formula)"
      ]
    },
    {
      "cell_type": "markdown",
      "metadata": {
        "id": "sRcRZ-et5XuA"
      },
      "source": [
        "\n",
        "\n",
        "---\n",
        "\n",
        "---\n",
        "\n",
        "\n",
        "\n",
        "---\n",
        "\n",
        "\n",
        "\n"
      ]
    },
    {
      "cell_type": "code",
      "execution_count": null,
      "metadata": {
        "id": "A0la-NBc3z0a"
      },
      "outputs": [],
      "source": [
        "def skolemize(formula):\n",
        "    replaced_variables = set()\n",
        "    skolemized_formula = formula.strip()\n",
        "\n",
        "    while '∃' in skolemized_formula:\n",
        "        existential_vars = extract_variables(skolemized_formula, '∃')\n",
        "\n",
        "        existential_vars = [var for var in existential_vars if var not in replaced_variables]\n",
        "\n",
        "        if not existential_vars:\n",
        "            break\n",
        "\n",
        "        if '∀' in skolemized_formula:\n",
        "            universal_vars = extract_variables(skolemized_formula, '∀')\n",
        "\n",
        "            skolemized_formula = replace_with_skolem_functions(skolemized_formula, existential_vars, universal_vars)\n",
        "        else:\n",
        "            skolemized_formula = replace_with_constants(skolemized_formula, existential_vars)\n",
        "\n",
        "        replaced_variables.update(existential_vars)\n",
        "\n",
        "        skolemized_formula = skolemized_formula.strip()\n",
        "\n",
        "    return skolemized_formula"
      ]
    },
    {
      "cell_type": "code",
      "execution_count": null,
      "metadata": {
        "id": "Jd6Jw7ruB6FJ"
      },
      "outputs": [],
      "source": [
        "def extract_variables(formula, quantifier):\n",
        "    f = formula.split()\n",
        "    for _term in f:\n",
        "      if _term[0] == quantifier:\n",
        "          return _term[1]"
      ]
    },
    {
      "cell_type": "code",
      "execution_count": null,
      "metadata": {
        "id": "0g-cYxuqB8O0"
      },
      "outputs": [],
      "source": [
        "def replace_with_skolem_functions(formula, existential_vars, universal_vars):\n",
        "    \"\"\"\n",
        "    Replaces existential variables with skolem functions based on the universal variables.\n",
        "    \"\"\"\n",
        "    skolemized_formula = formula\n",
        "    counter = 1\n",
        "    for var in existential_vars:\n",
        "        skolem_func = find_skolem_function(counter, universal_vars)\n",
        "\n",
        "        skolemized_formula = skolemized_formula.replace('∃{}'.format(var), '')\n",
        "        skolemized_formula = replace_variable_in_context(skolemized_formula, var, skolem_func)\n",
        "        counter += 1\n",
        "\n",
        "    return skolemized_formula\n",
        "\n",
        "def find_skolem_function(counter, universal_vars):\n",
        "    \"\"\"\n",
        "    Generates a skolem function based on the universal variables and a counter.\n",
        "    \"\"\"\n",
        "    return 'F{}({})'.format(counter, ','.join(universal_vars))"
      ]
    },
    {
      "cell_type": "code",
      "execution_count": null,
      "metadata": {
        "id": "xAb9P-w9B90x"
      },
      "outputs": [],
      "source": [
        "def replace_with_constants(formula, existential_vars):\n",
        "    \"\"\"\n",
        "    Replaces existential quantified variables with unique constant symbols.\n",
        "    \"\"\"\n",
        "    used_constants = set()\n",
        "\n",
        "    skolemized_formula = formula\n",
        "    for var in existential_vars:\n",
        "        constant_symbol = find_unique_constants(used_constants)\n",
        "        used_constants.add(constant_symbol)\n",
        "\n",
        "        skolemized_formula = skolemized_formula.replace('∃{}'.format(var), '')\n",
        "        skolemized_formula = replace_variable_in_context(skolemized_formula, var, constant_symbol)\n",
        "\n",
        "    return skolemized_formula\n",
        "\n",
        "def find_unique_constants(used_constants):\n",
        "    for letter in \"ABCDEFGHIJKLMNOPQRSTUVWXYZ\":\n",
        "        if letter not in used_constants:\n",
        "            return letter"
      ]
    },
    {
      "cell_type": "markdown",
      "metadata": {
        "id": "O2dCPyXjqQ0H"
      },
      "source": [
        "\n",
        "\n",
        "---\n",
        "\n"
      ]
    },
    {
      "cell_type": "code",
      "execution_count": null,
      "metadata": {
        "id": "Kye57WBx5Hl4"
      },
      "outputs": [],
      "source": [
        "def drop_universal_quantifiers(formula):\n",
        "    while '∀' in formula:\n",
        "        index = formula.index('∀')\n",
        "        formula = formula[:index] + formula[index+2:]  # remove both '∀' and the character after it\n",
        "    formula = formula.strip()\n",
        "    return formula"
      ]
    },
    {
      "cell_type": "code",
      "execution_count": null,
      "metadata": {
        "id": "HdIambw45Lbt"
      },
      "outputs": [],
      "source": [
        "def convert_to_CNF(formula):\n",
        "    if '∨' not in formula or '∧' not in formula:\n",
        "        return formula\n",
        "\n",
        "    disjunctive_parts = formula.split('∨')\n",
        "\n",
        "    cnf_components = []\n",
        "    result = []\n",
        "\n",
        "    for disjunctive_part in disjunctive_parts:\n",
        "        if '∧' in disjunctive_part:\n",
        "            conjunctive_parts = disjunctive_part.split('∧')\n",
        "            for part in conjunctive_parts:\n",
        "                cnf_components.append(part.strip())\n",
        "        else:\n",
        "          for conjunct_part in cnf_components:\n",
        "            result.append(conjunct_part + ' ∨ ' + disjunctive_part.strip())\n",
        "\n",
        "    cnf_formula = ' ∧ '.join(result)\n",
        "\n",
        "    return cnf_formula"
      ]
    },
    {
      "cell_type": "code",
      "source": [
        "def split_into_clauses(formula):\n",
        "    conjunctions = formula.split('∧')\n",
        "    clauses = []\n",
        "    for conjunction in conjunctions:\n",
        "        clauses.append(conjunction.strip())\n",
        "    return clauses"
      ],
      "metadata": {
        "id": "kVWhRTnA52jm"
      },
      "execution_count": null,
      "outputs": []
    },
    {
      "cell_type": "code",
      "source": [
        "import string\n",
        "\n",
        "def number_to_alphabet(num):\n",
        "    alphabet = string.ascii_lowercase\n",
        "    result = \"\"\n",
        "    while num:\n",
        "        num, remainder = divmod(num - 1, 26)\n",
        "        result = alphabet[remainder] + result\n",
        "    return result\n"
      ],
      "metadata": {
        "id": "OXHGiHAfIG7i"
      },
      "execution_count": null,
      "outputs": []
    },
    {
      "cell_type": "code",
      "source": [
        "import random\n",
        "random.seed(43)\n",
        "def rename_variables_in_clauses(clauses):\n",
        "    variables = []\n",
        "    for i,clause in enumerate(clauses):\n",
        "        if clause is None:\n",
        "            continue\n",
        "        tokens_of_clause = tokenize_formula(clause)\n",
        "        stored_indices= []\n",
        "        for j,token in enumerate(tokens_of_clause):\n",
        "          if token.startswith(')') and tokens_of_clause[j-2].startswith('(') and tokens_of_clause[j-1].islower():\n",
        "            stored_indices.append(j-1)\n",
        "\n",
        "\n",
        "        for index_of_variable in stored_indices:\n",
        "          myvariable = tokens_of_clause[index_of_variable]\n",
        "          if myvariable.islower():\n",
        "            variables.append(myvariable)\n",
        "            variablesset = set(variables)\n",
        "            if len(variablesset) != len(variables):\n",
        "              variables.remove(myvariable)\n",
        "              myvariable = number_to_alphabet(index_of_variable)\n",
        "              if myvariable in variables:\n",
        "                myvariable = number_to_alphabet(index_of_variable + random.randint(1,13))\n",
        "              variables.append(myvariable)\n",
        "            #clauses[i] = clause.replace(tokens_of_clause[index_of_variable], myvariable)\n",
        "\n",
        "        for index_of_variable in stored_indices:\n",
        "          if len(tokens_of_clause[index_of_variable]) == 1:\n",
        "            tokens_of_clause[index_of_variable] = myvariable\n",
        "          clauses[i] = ''.join(tokens_of_clause)\n",
        "\n",
        "    return clauses"
      ],
      "metadata": {
        "id": "T3CNrEOk6iwQ"
      },
      "execution_count": null,
      "outputs": []
    },
    {
      "cell_type": "code",
      "source": [
        "\n",
        "import copy\n",
        "def convert_to_complete_CNF(sentences):\n",
        "    final_clauses = []\n",
        "\n",
        "    for sentence in sentences:\n",
        "        print(\"Original formula:\", sentence)\n",
        "\n",
        "        eliminated_formula = eliminate_implication(sentence)\n",
        "        if eliminated_formula != sentence:\n",
        "            print(\"After eliminating implication:\", eliminated_formula)\n",
        "\n",
        "        negated_inward_formula = move_negation_inwards(eliminated_formula)\n",
        "        if negated_inward_formula != eliminated_formula:\n",
        "            print(\"After moving negation inwards:\", negated_inward_formula)\n",
        "\n",
        "        removed_formula = remove_double_not(negated_inward_formula)\n",
        "        if removed_formula != negated_inward_formula:\n",
        "            print(\"Removing double not:\", removed_formula)\n",
        "\n",
        "        standardized_formula = standardize_variables(removed_formula)\n",
        "        if standardized_formula != removed_formula:\n",
        "            print(\"After standardizing variables:\", standardized_formula)\n",
        "\n",
        "        prenex_formula = prenex_form(standardized_formula)\n",
        "        if prenex_formula != standardized_formula:\n",
        "            print(\"After prenex form:\", prenex_formula)\n",
        "\n",
        "        skolemized_formula = skolemize(prenex_formula)\n",
        "        if skolemized_formula != prenex_formula:\n",
        "            print(\"After skolemizing:\", skolemized_formula)\n",
        "\n",
        "        dropped_formula = drop_universal_quantifiers(skolemized_formula)\n",
        "        if dropped_formula != skolemized_formula:\n",
        "            print(\"After dropping universal quantifiers:\", dropped_formula)\n",
        "\n",
        "        CNF_formula = convert_to_CNF(dropped_formula)\n",
        "        if CNF_formula != dropped_formula:\n",
        "            print(\"After converting to CNF:\", CNF_formula)\n",
        "\n",
        "        split_formula = split_into_clauses(CNF_formula)\n",
        "        if split_formula != CNF_formula:\n",
        "            print(\"After splitting into clauses:\", split_formula)\n",
        "\n",
        "        final_clauses.extend(split_formula)\n",
        "        print(\"--------------------\")\n",
        "    old_final_clauses = copy.deepcopy(final_clauses)\n",
        "    final_clauses_after_rename = rename_variables_in_clauses(final_clauses)\n",
        "    print(f\"After renaming variables: \", final_clauses_after_rename)\n",
        "    print(f\"Split clauses: \", final_clauses)\n",
        "    return old_final_clauses\n"
      ],
      "metadata": {
        "id": "C_ZIOFz8Zmb9"
      },
      "execution_count": null,
      "outputs": []
    },
    {
      "cell_type": "code",
      "source": [
        "sentences = [\"∀x (Read(x) → ~Stupid(x))\", \"Read(John) ∧ Wealthy(John)\", \"∀x(Poor(x) → ~Wealthy(x))\",\n",
        "             \"∀x(Stupid(x) ∨ Smart(x))\", \"∀x((~Poor(x) ∧ Smart(x)) → Happy(x))\", \"∀x(~Exciting(x) → ~Happy(x))\"]\n",
        "# \"~(∃x (Exciting(x)) )\"\n",
        "goal = '~Exciting(x)'\n",
        "\n",
        "ready_for_resolution = convert_to_complete_CNF(sentences)\n",
        "print(\"Clauses for resolution: \", ready_for_resolution)"
      ],
      "metadata": {
        "colab": {
          "base_uri": "https://localhost:8080/"
        },
        "id": "7r-kYjEAEQ80",
        "outputId": "01e4c7e3-8f29-480a-96c2-325b71646fc4"
      },
      "execution_count": null,
      "outputs": [
        {
          "output_type": "stream",
          "name": "stdout",
          "text": [
            "Original formula: ∀x (Read(x) → ~Stupid(x))\n",
            "After eliminating implication: ∀x (~Read(x) ∨ ~Stupid(x))\n",
            "After dropping universal quantifiers: (~Read(x) ∨ ~Stupid(x))\n",
            "After splitting into clauses: ['(~Read(x) ∨ ~Stupid(x))']\n",
            "--------------------\n",
            "Original formula: Read(John) ∧ Wealthy(John)\n",
            "After splitting into clauses: ['Read(John)', 'Wealthy(John)']\n",
            "--------------------\n",
            "Original formula: ∀x(Poor(x) → ~Wealthy(x))\n",
            "After eliminating implication: ∀x(~Poor(x) ∨ ~Wealthy(x))\n",
            "After dropping universal quantifiers: (~Poor(x) ∨ ~Wealthy(x))\n",
            "After splitting into clauses: ['(~Poor(x) ∨ ~Wealthy(x))']\n",
            "--------------------\n",
            "Original formula: ∀x(Stupid(x) ∨ Smart(x))\n",
            "After dropping universal quantifiers: (Stupid(x) ∨ Smart(x))\n",
            "After splitting into clauses: ['(Stupid(x) ∨ Smart(x))']\n",
            "--------------------\n",
            "Original formula: ∀x((~Poor(x) ∧ Smart(x)) → Happy(x))\n",
            "After eliminating implication: ∀x(~(~Poor(x) ∧ Smart(x)) ∨ Happy(x))\n",
            "After moving negation inwards: ∀x((~~Poor(x) ∨ ~Smart(x)) ∨ Happy(x))\n",
            "Removing double not: ∀x((Poor(x) ∨ ~Smart(x)) ∨ Happy(x))\n",
            "After dropping universal quantifiers: ((Poor(x) ∨ ~Smart(x)) ∨ Happy(x))\n",
            "After splitting into clauses: ['((Poor(x) ∨ ~Smart(x)) ∨ Happy(x))']\n",
            "--------------------\n",
            "Original formula: ∀x(~Exciting(x) → ~Happy(x))\n",
            "After eliminating implication: ∀x(~~Exciting(x) ∨ ~Happy(x))\n",
            "Removing double not: ∀x(Exciting(x) ∨ ~Happy(x))\n",
            "After dropping universal quantifiers: (Exciting(x) ∨ ~Happy(x))\n",
            "After splitting into clauses: ['(Exciting(x) ∨ ~Happy(x))']\n",
            "--------------------\n",
            "After renaming variables:  ['(~Read(j) ∨ ~Stupid(j))', 'Read(John)', 'Wealthy(John)', '(~Poor(k) ∨ ~Wealthy(k))', '(Stupid(v) ∨ Smart(v))', '((Poor(s) ∨ ~Smart(s)) ∨ Happy(s))', '(Exciting(r) ∨ ~Happy(r))']\n",
            "Split clauses:  ['(~Read(j) ∨ ~Stupid(j))', 'Read(John)', 'Wealthy(John)', '(~Poor(k) ∨ ~Wealthy(k))', '(Stupid(v) ∨ Smart(v))', '((Poor(s) ∨ ~Smart(s)) ∨ Happy(s))', '(Exciting(r) ∨ ~Happy(r))']\n",
            "Clauses for resolution:  ['(~Read(x) ∨ ~Stupid(x))', 'Read(John)', 'Wealthy(John)', '(~Poor(x) ∨ ~Wealthy(x))', '(Stupid(x) ∨ Smart(x))', '((Poor(x) ∨ ~Smart(x)) ∨ Happy(x))', '(Exciting(x) ∨ ~Happy(x))']\n"
          ]
        }
      ]
    },
    {
      "cell_type": "markdown",
      "source": [
        "## Applying Resolution:"
      ],
      "metadata": {
        "id": "JQBAxWUV3D4X"
      }
    },
    {
      "cell_type": "code",
      "source": [
        "def format_string(input_string):\n",
        "\n",
        "    formatted_string = ''\n",
        "    prev_char = ''\n",
        "    for char in input_string:\n",
        "        if prev_char == '(' and char == '(':\n",
        "            continue\n",
        "        if prev_char == ')' and char == ')':\n",
        "            continue\n",
        "        formatted_string += char\n",
        "        prev_char = char\n",
        "\n",
        "    while formatted_string and formatted_string[0] == '(':\n",
        "        formatted_string = formatted_string[1:]\n",
        "\n",
        "    return formatted_string"
      ],
      "metadata": {
        "id": "-ZP_PePaMYpe"
      },
      "execution_count": null,
      "outputs": []
    },
    {
      "cell_type": "code",
      "source": [
        "ready_for_resolution = [format_string(cl) for cl in ready_for_resolution]\n",
        "print(ready_for_resolution)"
      ],
      "metadata": {
        "colab": {
          "base_uri": "https://localhost:8080/"
        },
        "id": "56wENHLYNnCV",
        "outputId": "f9e28283-9c19-4f51-c4c0-c9074e249de5"
      },
      "execution_count": null,
      "outputs": [
        {
          "output_type": "stream",
          "name": "stdout",
          "text": [
            "['~Read(x) ∨ ~Stupid(x)', 'Read(John)', 'Wealthy(John)', '~Poor(x) ∨ ~Wealthy(x)', 'Stupid(x) ∨ Smart(x)', 'Poor(x) ∨ ~Smart(x) ∨ Happy(x)', 'Exciting(x) ∨ ~Happy(x)']\n"
          ]
        }
      ]
    },
    {
      "cell_type": "code",
      "source": [
        "from nltk.inference.resolution import *\n",
        "from nltk.inference.resolution import ResolutionProverCommand\n",
        "from nltk.sem.logic import *\n",
        "\n",
        "from nltk import logic\n",
        "from nltk.inference.resolution import ResolutionProverCommand\n",
        "\n",
        "read_expr = logic.Expression.fromstring\n",
        "\n",
        "goalinform = \"∃x(Exciting(x))\"\n",
        "lexpr = Expression.fromstring\n",
        "\n",
        "goal = 'Exciting(x)'\n",
        "goal = lexpr(goal)\n",
        "\n",
        "# p1 = Expression.fromstring(r\"all x.(read(x) -> -stupid(x))\")\n",
        "# p2 = Expression.fromstring(r\"read(John) & wealthy(John)\")\n",
        "# p3 = Expression.fromstring(r\"all x.(poor(x) -> -wealthy(x))\")\n",
        "# p4 = Expression.fromstring(r\"all x.(stupid(x) or smart(x))\")\n",
        "\n",
        "# p5 = Expression.fromstring(r\"all x.( (-poor(x) and smart(x)) -> happy(x))\")\n",
        "# p6 = Expression.fromstring(r\"all x.(-exciting(x) -> -happy(x))\")\n",
        "\n",
        "# c = Expression.fromstring(r\"some y.(exciting(y))\")\n",
        "\n",
        "\n",
        "# proof2 = ResolutionProver().prove(c, [p1, p2, p3, p4, p5, p6], verbose=True)\n",
        "# if proof2:\n",
        "#     print(\"The goal is satisfiable.\")\n",
        "# else:\n",
        "#     print(\"The goal is not satisfiable.\")\n",
        "# print(\"---------------------\")\n",
        "\n",
        "\n",
        "for i in range(len(ready_for_resolution)):\n",
        "    if '∨' in ready_for_resolution[i]:\n",
        "        clause_parts = ready_for_resolution[i].split(' ∨ ')\n",
        "        ready_for_resolution[i] = '|'.join(clause_parts)\n",
        "        if not ready_for_resolution[i].endswith(')'):\n",
        "          ready_for_resolution[i] += ')'\n",
        "        ready_for_resolution[i] = ready_for_resolution[i].replace('~', '-')\n",
        "\n",
        "try:\n",
        "    ready_for_resolution = [read_expr(clause) for clause in ready_for_resolution]\n",
        "    proof = ResolutionProver().prove(goal, ready_for_resolution, verbose=True)\n",
        "    if proof:\n",
        "        print(\"The goal is satisfiable.\")\n",
        "    else:\n",
        "      print(\"The goal is not satisfiable.\")\n",
        "except IndexError:\n",
        "    pass\n",
        "except ExpectedMoreTokensException:\n",
        "    pass\n",
        "except LogicalExpressionException:\n",
        "    pass"
      ],
      "metadata": {
        "colab": {
          "base_uri": "https://localhost:8080/"
        },
        "id": "ws-98ZqjTuqL",
        "outputId": "fe374eda-44e9-4db6-b73c-9fdf07308add"
      },
      "execution_count": null,
      "outputs": [
        {
          "output_type": "stream",
          "name": "stdout",
          "text": [
            "[ 1] {-Exciting(z1230)}                                 A \n",
            "[ 2] {-Read(z1231), -Stupid(z1231)}                     A \n",
            "[ 3] {Read(John)}                                       A \n",
            "[ 4] {Wealthy(John)}                                    A \n",
            "[ 5] {-Poor(z1232), -Wealthy(z1232)}                    A \n",
            "[ 6] {Stupid(z1233), Smart(z1233)}                      A \n",
            "[ 7] {Poor(z1234), -Smart(z1234), Happy(z1234)}         A \n",
            "[ 8] {Exciting(z1235), -Happy(z1235)}                   A \n",
            "[ 9] {-Happy(z1235)}                                    (1, 8) \n",
            "[10] {-Stupid(John)}                                    (2, 3) \n",
            "[11] {Smart(z1233), -Read(z1233)}                       (2, 6) \n",
            "[12] {Smart(John)}                                      (3, 11) \n",
            "[13] {-Poor(John)}                                      (4, 5) \n",
            "[14] {-Smart(z1234), Happy(z1234), -Wealthy(z1234)}     (5, 7) \n",
            "[15] {-Smart(John), Happy(John)}                        (4, 14) \n",
            "[16] {Happy(z1234), Poor(z1234), Stupid(z1234)}         (6, 7) \n",
            "[17] {Happy(z1234), Poor(z1234), -Read(z1234)}          (2, 16) \n",
            "[18] {Happy(John), Poor(John)}                          (3, 17) \n",
            "[19] {Stupid(z1234), Happy(z1234), -Wealthy(z1234)}     (5, 16) \n",
            "[20] {Happy(z1234), -Wealthy(z1234), -Read(z1234)}      (2, 19) \n",
            "[21] {Happy(John), -Wealthy(John)}                      (3, 20) \n",
            "[22] {Stupid(John), Happy(John)}                        (4, 19) \n",
            "[23] {Happy(John), -Read(John)}                         (2, 22) \n",
            "[24] {Happy(John)}                                      (3, 23) \n",
            "[25] {-Read(John), Happy(John)}                         (4, 20) \n",
            "[26] {Happy(John)}                                      (3, 25) \n",
            "[27] {Happy(John)}                                      (4, 21) \n",
            "[28] {-Read(z1234), Happy(z1234), -Wealthy(z1234)}      (5, 17) \n",
            "[29] {Happy(John), -Wealthy(John)}                      (3, 28) \n",
            "[30] {-Read(John), Happy(John)}                         (4, 28) \n",
            "[31] {Happy(John)}                                      (3, 30) \n",
            "[32] {Happy(John)}                                      (4, 29) \n",
            "[33] {Happy(John), -Wealthy(John)}                      (5, 18) \n",
            "[34] {Happy(John)}                                      (4, 33) \n",
            "[35] {Smart(John)}                                      (6, 10) \n",
            "[36] {Happy(z1234), -Wealthy(z1234), Stupid(z1234)}     (6, 14) \n",
            "[37] {Happy(z1234), -Wealthy(z1234), -Read(z1234)}      (2, 36) \n",
            "[38] {Happy(John), -Wealthy(John)}                      (3, 37) \n",
            "[39] {Stupid(John), Happy(John)}                        (4, 36) \n",
            "[40] {Happy(John), -Read(John)}                         (2, 39) \n",
            "[41] {Happy(John)}                                      (3, 40) \n",
            "[42] {-Read(John), Happy(John)}                         (4, 37) \n",
            "[43] {Happy(John)}                                      (3, 42) \n",
            "[44] {Happy(John)}                                      (4, 38) \n",
            "[45] {Happy(John), Stupid(John)}                        (6, 15) \n",
            "[46] {Happy(John), -Read(John)}                         (2, 45) \n",
            "[47] {Happy(John)}                                      (3, 46) \n",
            "[48] {Exciting(z1235), Poor(z1235), -Smart(z1235)}      (7, 8) \n",
            "[49] {Poor(z1235), -Smart(z1235)}                       (1, 48) \n",
            "[50] {-Smart(z1235), Exciting(z1235), -Wealthy(z1235)}  (5, 48) \n",
            "[51] {-Wealthy(z1235), -Smart(z1235)}                   (1, 50) \n",
            "[52] {-Smart(John), Exciting(John)}                     (4, 50) \n",
            "[53] {-Smart(John)}                                     (1, 52) \n",
            "[54] {-Smart(John)}                                     (4, 51) \n",
            "[55] {-Smart(z1235), -Wealthy(z1235)}                   (5, 49) \n",
            "[56] {-Smart(John)}                                     (4, 55) \n",
            "[57] {Exciting(z1235), Poor(z1235), Stupid(z1235)}      (6, 48) \n",
            "[58] {Poor(z1235), Stupid(z1235)}                       (1, 57) \n",
            "[59] {Exciting(z1235), Poor(z1235), -Read(z1235)}       (2, 57) \n",
            "[60] {Poor(z1235), -Read(z1235)}                        (1, 59) \n",
            "[61] {Poor(z1235), -Read(z1235)}                        (2, 58) \n",
            "[62] {Exciting(John), Poor(John)}                       (3, 59) \n",
            "[63] {Poor(John)}                                       (1, 62) \n",
            "[64] {Poor(John)}                                       (3, 60) \n",
            "[65] {Poor(John)}                                       (3, 61) \n",
            "[66] {Stupid(z1235), Exciting(z1235), -Wealthy(z1235)}  (5, 57) \n",
            "[67] {-Wealthy(z1235), Stupid(z1235)}                   (1, 66) \n",
            "[68] {Exciting(z1235), -Wealthy(z1235), -Read(z1235)}   (2, 66) \n",
            "[69] {-Wealthy(z1235), -Read(z1235)}                    (1, 68) \n",
            "[70] {-Wealthy(z1235), -Read(z1235)}                    (2, 67) \n",
            "[71] {Exciting(John), -Wealthy(John)}                   (3, 68) \n",
            "[72] {-Wealthy(John)}                                   (1, 71) \n",
            "[73] {-Wealthy(John)}                                   (3, 69) \n",
            "[74] {-Wealthy(John)}                                   (3, 70) \n",
            "[75] {Stupid(John), Exciting(John)}                     (4, 66) \n",
            "[76] {Stupid(John)}                                     (1, 75) \n",
            "[77] {Exciting(John), -Read(John)}                      (2, 75) \n",
            "[78] {-Read(John)}                                      (1, 77) \n",
            "[79] {-Read(John)}                                      (2, 76) \n",
            "[80] {Exciting(John)}                                   (3, 77) \n",
            "[81] {}                                                 (1, 80) \n",
            "\n",
            "The goal is satisfiable.\n"
          ]
        }
      ]
    },
    {
      "cell_type": "code",
      "source": [
        "\n"
      ],
      "metadata": {
        "id": "ydxJLq53nKyf"
      },
      "execution_count": null,
      "outputs": []
    }
  ],
  "metadata": {
    "colab": {
      "provenance": [],
      "collapsed_sections": [
        "dkkeHEvR7nB_"
      ]
    },
    "kernelspec": {
      "display_name": "Python 3",
      "name": "python3"
    },
    "language_info": {
      "name": "python"
    }
  },
  "nbformat": 4,
  "nbformat_minor": 0
}