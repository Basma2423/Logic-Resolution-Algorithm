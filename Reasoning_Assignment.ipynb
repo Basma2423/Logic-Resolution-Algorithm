{
  "cells": [
    {
      "cell_type": "markdown",
      "source": [
        "# Supervised Assignment\n",
        "\n",
        "Names:\n",
        "\n",
        "*Selsabeel Asim Ali Elbagir, 20210714*\n",
        "\n",
        "*Basma Mahmoud Hashem, 20210091*\n",
        "\n",
        "Section:\n",
        "*S2*"
      ],
      "metadata": {
        "id": "ESlgFueo1_Cd"
      }
    },
    {
      "cell_type": "markdown",
      "metadata": {
        "id": "1lqxebzi7gIy"
      },
      "source": [
        "## Converting to CNF form:"
      ]
    },
    {
      "cell_type": "code",
      "execution_count": 571,
      "metadata": {
        "id": "Qy1WHKWzen8B"
      },
      "outputs": [],
      "source": [
        "KB = ['∀x Read(x) → ~Stupid(x)',\n",
        "      'Read(John) ∧ Wealthy(John)',\n",
        "      '∀x (Poor(x) → ~Wealthy(x))',\n",
        "      '∀x Stupid(x) ∨ Smart(x)',\n",
        "      '∀x ~Poor(x) ∧ Smart(x) → Happy(x)',\n",
        "      '∀x ~Exciting(x) → ~Happy(x)']"
      ]
    },
    {
      "cell_type": "markdown",
      "metadata": {
        "id": "dkkeHEvR7nB_"
      },
      "source": [
        "### Helper Functions"
      ]
    },
    {
      "cell_type": "code",
      "execution_count": 572,
      "metadata": {
        "id": "eLDwSdjBe2Xa"
      },
      "outputs": [],
      "source": [
        "import re"
      ]
    },
    {
      "cell_type": "code",
      "execution_count": 573,
      "metadata": {
        "id": "mHphDoDLaEL6"
      },
      "outputs": [],
      "source": [
        "def replace_variable_in_context(formula, variable, replacement):\n",
        "    # Replace the variable with the replacement character or substring in the specified context\n",
        "    tokens = tokenize_formula(formula)\n",
        "    new_tokens = []\n",
        "\n",
        "    for token in tokens:\n",
        "        if token == variable:\n",
        "            # Check if the token satisfies one of the specified conditions\n",
        "            if (\n",
        "                (token + ',') in formula or\n",
        "                (token + ', ') in formula or\n",
        "                (',' + token) in formula or\n",
        "                (', ' + token) in formula or\n",
        "                f'({token})' in formula\n",
        "            ):\n",
        "                new_token = replacement\n",
        "            else:\n",
        "                new_token = token\n",
        "        else:\n",
        "            new_token = token\n",
        "\n",
        "        new_tokens.append(new_token)\n",
        "\n",
        "    return \"\".join(new_tokens)\n",
        "\n",
        "def tokenize_formula(formula):\n",
        "    # Tokenize the formula to identify tokens including brackets, commas, and spaces\n",
        "    tokens = []\n",
        "    current_token = \"\"\n",
        "\n",
        "    for char in formula:\n",
        "        if char in (',', '(', ')'):\n",
        "            if current_token:\n",
        "                tokens.append(current_token.strip())  # Add the trimmed current_token\n",
        "            current_token = \"\"\n",
        "            tokens.append(char)  # Add the bracket or comma as a separate token\n",
        "        elif char.isspace():\n",
        "            if current_token:\n",
        "                tokens.append(current_token.strip())  # Add the trimmed current_token\n",
        "            current_token = \"\"\n",
        "            tokens.append(char)\n",
        "        else:\n",
        "            current_token += char\n",
        "\n",
        "    # Append the last token if it's not empty\n",
        "    if current_token:\n",
        "        tokens.append(current_token.strip())\n",
        "\n",
        "    return tokens"
      ]
    },
    {
      "cell_type": "code",
      "execution_count": 574,
      "metadata": {
        "id": "NFjkbZKevCzN"
      },
      "outputs": [],
      "source": [
        "def replace_operator_in_context(formula_tokens, operator, replacement):\n",
        "    # Replace the operator with the replacement character or substring in the specified context\n",
        "    new_tokens = []\n",
        "\n",
        "    for token in formula_tokens:\n",
        "        if token == operator:\n",
        "            new_token = replacement\n",
        "        else:\n",
        "            new_token = token\n",
        "\n",
        "        new_tokens.append(new_token)\n",
        "\n",
        "    return new_tokens\n"
      ]
    },
    {
      "cell_type": "code",
      "source": [
        "def rename_variables(tokens, quantifier_variable, start_index, end_index):\n",
        "    variable_count = {}\n",
        "    for i in range(start_index, end_index):\n",
        "        token = tokens[i]\n",
        "        if token.isalpha() and token.islower() and token == quantifier_variable:\n",
        "            if token in variable_count:\n",
        "                variable_count[token] += 1\n",
        "            else:\n",
        "                variable_count[token] = 1\n",
        "            new_variable = token + str(variable_count[token])\n",
        "            tokens[i] = new_variable"
      ],
      "metadata": {
        "id": "xSZzcg_pvji_"
      },
      "execution_count": 575,
      "outputs": []
    },
    {
      "cell_type": "code",
      "execution_count": 576,
      "metadata": {
        "id": "gSwGRWeevFPF"
      },
      "outputs": [],
      "source": [
        "def get_surrounding_bracket(formula_tokens, operator):\n",
        "    left_bracket_index = None\n",
        "    right_bracket_index = None\n",
        "    operator_index = None\n",
        "\n",
        "    # Find the index of the operator\n",
        "    for i, token in enumerate(formula_tokens):\n",
        "        if token == operator or token.startswith(operator):\n",
        "            operator_index = i\n",
        "            break\n",
        "\n",
        "    if operator_index is None:\n",
        "        return None, None  # Operator not found\n",
        "\n",
        "    # Find the left bracket index\n",
        "    bracket_counter = 0\n",
        "    for i in range(operator_index - 1, -1, -1):\n",
        "        if formula_tokens[i].startswith(')'):\n",
        "            bracket_counter += 1\n",
        "        elif formula_tokens[i] == '(':\n",
        "            if bracket_counter == 0:\n",
        "                left_bracket_index = i\n",
        "                break\n",
        "            else:\n",
        "                bracket_counter -= 1\n",
        "\n",
        "    # Find the right bracket index\n",
        "    bracket_counter = 0\n",
        "    for i in range(operator_index + 1, len(formula_tokens)):\n",
        "        if formula_tokens[i].startswith('('):\n",
        "            bracket_counter += 1\n",
        "        elif formula_tokens[i] == ')':\n",
        "            if bracket_counter == 0:\n",
        "                right_bracket_index = i\n",
        "                break\n",
        "            else:\n",
        "                bracket_counter -= 1\n",
        "\n",
        "    return left_bracket_index, right_bracket_index\n"
      ]
    },
    {
      "cell_type": "code",
      "execution_count": 578,
      "metadata": {
        "id": "Ucsh0WZTcGw8"
      },
      "outputs": [],
      "source": [
        "def find_matching_parenthesis(tokens, start_index):\n",
        "    bracket_count = 0\n",
        "    for i in range(start_index, len(tokens)):\n",
        "        if tokens[i] == '(':\n",
        "            bracket_count += 1\n",
        "        elif tokens[i] == ')':\n",
        "            bracket_count -= 1\n",
        "            if bracket_count == 0:\n",
        "                return i\n",
        "    return -1\n"
      ]
    },
    {
      "cell_type": "markdown",
      "source": [
        "### The ten steps of CNF conversion:"
      ],
      "metadata": {
        "id": "tt6MSSWG2g-T"
      }
    },
    {
      "cell_type": "code",
      "execution_count": 577,
      "metadata": {
        "id": "AtVo1t0PDnF4"
      },
      "outputs": [],
      "source": [
        "def eliminate_implication(formula):\n",
        "  tokens = tokenize_formula(formula)\n",
        "  left_bracket_index, right = get_surrounding_bracket(tokens, '→')\n",
        "  if left_bracket_index is not None and left_bracket_index > 0:\n",
        "    tokens.insert(left_bracket_index + 1 , '~')  # Insert '~' before the left bracket\n",
        "  replaced_tokens = replace_operator_in_context(tokens, '→', '∨')\n",
        "  replaced_formula = \"\".join(replaced_tokens)\n",
        "  return replaced_formula\n"
      ]
    },
    {
      "cell_type": "code",
      "execution_count": 579,
      "metadata": {
        "id": "9HOCpR_JcCha"
      },
      "outputs": [],
      "source": [
        "def move_negation_inwards(formula):\n",
        "    tokens = tokenize_formula(formula)\n",
        "    negation_indices = [i for i, token in enumerate(tokens) if token == '~']\n",
        "\n",
        "    for index in negation_indices:\n",
        "      if index < len(tokens) - 1:  # Check if negation is not the last token\n",
        "        next_token = tokens[index + 1]\n",
        "        if next_token == '(' or next_token.startswith('('):  # Check if negation is followed by a left bracket\n",
        "          right_bracket_index = find_matching_parenthesis(tokens,index+1)\n",
        "          for i in range(index,right_bracket_index):\n",
        "            if tokens[i] == '∧':\n",
        "              tokens[i] = '∨'\n",
        "            elif tokens[i] == '∨':\n",
        "              tokens[i] = '∧'\n",
        "            elif tokens[i].isalpha() and tokens[i][0].isupper():\n",
        "              tokens[i] = '~' + tokens[i]\n",
        "\n",
        "          tokens.pop(index)\n",
        "          tokens[index+1] = '~' + tokens[index+1]\n",
        "    replaced_formula = \"\".join(tokens)\n",
        "    return replaced_formula\n"
      ]
    },
    {
      "cell_type": "code",
      "execution_count": 580,
      "metadata": {
        "id": "mzVIDffvDpqH"
      },
      "outputs": [],
      "source": [
        "def remove_double_not(formula):\n",
        "  tokens = tokenize_formula(formula)\n",
        "  for i, token in enumerate(tokens):\n",
        "    if token.startswith('~~'):\n",
        "      if len(token) == 2:\n",
        "        tokens.removeAt(i)\n",
        "      else:\n",
        "        tokens[i] = token[len('~~'):]\n",
        "    elif token.startswith('~') and tokens[i+2].startswith('~'):\n",
        "      i = i+2\n",
        "      tokens[i] = tokens[i][1:] # removes the ~ before the (\n",
        "      tokens.pop(i-1) # removes the (\n",
        "      tokens.pop(i-2)# removes the ~ before it\n",
        "      tokens.pop(i+1) #removes the ) of the scope\n",
        "\n",
        "\n",
        "  return \"\".join(tokens)\n",
        "\n"
      ]
    },
    {
      "cell_type": "code",
      "execution_count": 581,
      "metadata": {
        "id": "kKsD72QNDuTq",
        "colab": {
          "base_uri": "https://localhost:8080/"
        },
        "outputId": "713e6c6a-25be-48ee-cc8e-d63b6fce1846"
      },
      "outputs": [
        {
          "output_type": "stream",
          "name": "stdout",
          "text": [
            "Standardized formula: ∀x (P(x)) ∀x (Q(x1, y))\n"
          ]
        }
      ],
      "source": [
        "def standardize_variables(formula):\n",
        "    tokens = tokenize_formula(formula)\n",
        "    size = len(tokens)\n",
        "    i = 0\n",
        "    while i < size:\n",
        "        if tokens[i].startswith('∀') or tokens[i].startswith('∃'):\n",
        "            quantifier_variable = tokens[i][1]  # get the variable of the quantifier\n",
        "            if tokens[i+1] == '(':\n",
        "              start_scope_index = i + 1\n",
        "            elif tokens[i+2] == '(' and tokens[i+1] == ' ':\n",
        "              start_scope_index = i + 2  # gets the index of the (, beginning of our scope\n",
        "\n",
        "            end_scope_index = find_matching_parenthesis(tokens, start_scope_index)\n",
        "            # Rename variables within the scope of the quantifier\n",
        "            rename_variables(tokens, quantifier_variable, end_scope_index, size)\n",
        "            i = end_scope_index + 1\n",
        "        else:\n",
        "            i += 1\n",
        "\n",
        "    standardized_formula = \"\".join(tokens)\n",
        "    return standardized_formula\n",
        "\n",
        "ex = \"∀x (P(x)) ∀x (Q(x, y))\"\n",
        "standardized_formula = standardize_variables(ex)\n",
        "print(\"Standardized formula:\", standardized_formula)\n"
      ]
    },
    {
      "cell_type": "code",
      "execution_count": 582,
      "metadata": {
        "colab": {
          "base_uri": "https://localhost:8080/"
        },
        "id": "ShPKeumwEKrg",
        "outputId": "91b38aee-bb9e-4fff-c05a-e715f3507118"
      },
      "outputs": [
        {
          "output_type": "stream",
          "name": "stdout",
          "text": [
            "Original formula: ∀x (P(x, y) ∧ ∃y Q(x))\n",
            "Prenex form: ∀x∃y (P(x, y) ∧  Q(x))\n"
          ]
        }
      ],
      "source": [
        "def prenex_form(input_formula):\n",
        "    tokens = tokenize_formula(input_formula)\n",
        "    prenex_part = []  # Will store the quantifiers and their variables\n",
        "    matrix_part = []  # Will store the matrix part of the formula (without quantifiers)\n",
        "    i = 0\n",
        "    while i < len(tokens):\n",
        "        token = tokens[i]\n",
        "        if token.startswith('∀') or token.startswith('∃'):  # Quantifiers\n",
        "            quantifier = token\n",
        "            variables = []\n",
        "            # Extract variables until the next token is not a variable\n",
        "            while i + 1 < len(tokens) and tokens[i + 1].isalnum():\n",
        "                variables.append(tokens[i + 1])\n",
        "                i += 1\n",
        "            prenex_part.append((quantifier, variables))\n",
        "        else:\n",
        "            matrix_part.append(token)\n",
        "        i += 1\n",
        "\n",
        "    # Reconstruct the formula with quantifiers moved to the left\n",
        "    prenex_formula = \"\"\n",
        "    for quantifier, variables in prenex_part:\n",
        "        prenex_formula += quantifier + ' '.join(variables)\n",
        "    prenex_formula += ''.join(matrix_part)\n",
        "\n",
        "    return prenex_formula\n",
        "\n",
        "formula = \"∀x (P(x, y) ∧ ∃y Q(x))\"\n",
        "print(\"Original formula:\", formula)\n",
        "\n",
        "prenex_formula = prenex_form(formula)\n",
        "print(\"Prenex form:\", prenex_formula)\n"
      ]
    },
    {
      "cell_type": "code",
      "execution_count": 583,
      "metadata": {
        "colab": {
          "base_uri": "https://localhost:8080/"
        },
        "id": "E3b91HzN9elE",
        "outputId": "daf65866-4c60-472b-a811-4267aca6776d"
      },
      "outputs": [
        {
          "output_type": "stream",
          "name": "stdout",
          "text": [
            "Original formula: ∀x ~(Read(x) → Stupid(x))\n",
            "After eliminating implication: ∀x ~(~Read(x) ∨ Stupid(x))\n",
            "After moving negation inwards: ∀x (~~Read(x) ∧ ~Stupid(x))\n",
            "Removing double not: ∀x (Read(x) ∧ ~Stupid(x))\n",
            "--------------------\n",
            "Original formula: Read(John) ∧ Wealthy(John)\n",
            "--------------------\n",
            "Original formula: ∀x(Poor(x) → ~Wealthy(x))\n",
            "After eliminating implication: ∀x(~Poor(x) ∨ ~Wealthy(x))\n",
            "--------------------\n",
            "Original formula: ∀x(Stupid(x) ∨ Smart(x))\n",
            "--------------------\n",
            "Original formula: ∀x(~Poor(x) ∧ Smart(x) → Happy(x))\n",
            "After eliminating implication: ∀x(~~Poor(x) ∧ Smart(x) ∨ Happy(x))\n",
            "Removing double not: ∀x(Poor(x) ∧ Smart(x) ∨ Happy(x))\n",
            "--------------------\n",
            "Original formula: ∀x(~Exciting(x) → ~Happy(x))\n",
            "After eliminating implication: ∀x(~~Exciting(x) ∨ ~Happy(x))\n",
            "Removing double not: ∀x(Exciting(x) ∨ ~Happy(x))\n",
            "--------------------\n"
          ]
        }
      ],
      "source": [
        "sentences = [\"∀x ~(Read(x) → Stupid(x))\", \"Read(John) ∧ Wealthy(John)\", \"∀x(Poor(x) → ~Wealthy(x))\",\n",
        "             \"∀x(Stupid(x) ∨ Smart(x))\", \"∀x(~Poor(x) ∧ Smart(x) → Happy(x))\", \"∀x(~Exciting(x) → ~Happy(x))\"]\n",
        "for sentence in sentences:\n",
        "  print(\"Original formula:\", sentence)\n",
        "\n",
        "  eliminated_formula = eliminate_implication(sentence)\n",
        "  if eliminated_formula != sentence:\n",
        "    print(\"After eliminating implication:\", eliminated_formula)\n",
        "\n",
        "  negated_inward_formula = move_negation_inwards(eliminated_formula)\n",
        "  if negated_inward_formula != eliminated_formula:\n",
        "    print(\"After moving negation inwards:\", negated_inward_formula)\n",
        "\n",
        "  removed_formula = remove_double_not(negated_inward_formula)\n",
        "  if removed_formula != negated_inward_formula:\n",
        "    print(\"Removing double not:\", removed_formula)\n",
        "\n",
        "  standardized_formula = standardize_variables(removed_formula)\n",
        "  if standardized_formula != removed_formula:\n",
        "    print(\"After standardizing variables:\", standardized_formula)\n",
        "\n",
        "  prenex_formula = prenex_form(standardized_formula)\n",
        "  if prenex_formula != standardized_formula:\n",
        "    print(\"After prenex form:\", prenex_formula)\n",
        "  print ( \"--------------------\")\n"
      ]
    },
    {
      "cell_type": "markdown",
      "metadata": {
        "id": "sRcRZ-et5XuA"
      },
      "source": [
        "\n",
        "\n",
        "---\n",
        "\n",
        "---\n",
        "\n",
        "\n",
        "\n",
        "---\n",
        "\n",
        "\n",
        "\n"
      ]
    },
    {
      "cell_type": "code",
      "execution_count": 584,
      "metadata": {
        "id": "A0la-NBc3z0a"
      },
      "outputs": [],
      "source": [
        "def skolemize(formula):\n",
        "    replaced_variables = set()  # Initialize an empty set to store variables that have been replaced\n",
        "    skolemized_formula = formula.strip()\n",
        "\n",
        "    while '∃' in skolemized_formula:\n",
        "        existential_vars = extract_variables(skolemized_formula, '∃')\n",
        "\n",
        "        existential_vars = [var for var in existential_vars if var not in replaced_variables]\n",
        "\n",
        "        if not existential_vars:\n",
        "            break\n",
        "\n",
        "        if '∀' in skolemized_formula:\n",
        "            universal_vars = extract_variables(skolemized_formula, '∀')\n",
        "\n",
        "            skolemized_formula = replace_with_skolem_functions(skolemized_formula, existential_vars, universal_vars)\n",
        "        else:\n",
        "            skolemized_formula = replace_with_constants(skolemized_formula, existential_vars)\n",
        "\n",
        "        replaced_variables.update(existential_vars)\n",
        "\n",
        "        skolemized_formula = skolemized_formula.strip()\n",
        "\n",
        "    return skolemized_formula"
      ]
    },
    {
      "cell_type": "code",
      "execution_count": 585,
      "metadata": {
        "id": "Jd6Jw7ruB6FJ"
      },
      "outputs": [],
      "source": [
        "def extract_variables(formula, quantifier):\n",
        "    return [term[1] for term in formula.split() if term[0] == quantifier]"
      ]
    },
    {
      "cell_type": "code",
      "execution_count": 586,
      "metadata": {
        "id": "0g-cYxuqB8O0"
      },
      "outputs": [],
      "source": [
        "def replace_with_skolem_functions(formula, existential_vars, universal_vars):\n",
        "    \"\"\"\n",
        "    Replaces existential variables with skolem functions based on the universal variables.\n",
        "    \"\"\"\n",
        "    skolemized_formula = formula\n",
        "    counter = 1\n",
        "    for var in existential_vars:\n",
        "        skolem_func = find_skolem_function(counter, universal_vars)\n",
        "\n",
        "        skolemized_formula = skolemized_formula.replace('∃{}'.format(var), '')\n",
        "        skolemized_formula = replace_variable_in_context(skolemized_formula, var, skolem_func)\n",
        "        counter += 1\n",
        "\n",
        "    return skolemized_formula\n",
        "\n",
        "def find_skolem_function(counter, universal_vars):\n",
        "    \"\"\"\n",
        "    Generates a skolem function based on the universal variables and a counter.\n",
        "    \"\"\"\n",
        "    return 'F{}({})'.format(counter, ','.join(universal_vars))"
      ]
    },
    {
      "cell_type": "code",
      "execution_count": 587,
      "metadata": {
        "id": "xAb9P-w9B90x"
      },
      "outputs": [],
      "source": [
        "def replace_with_constants(formula, existential_vars):\n",
        "    \"\"\"\n",
        "    Replaces existential quantified variables with unique constant symbols.\n",
        "    \"\"\"\n",
        "    used_constants = set()\n",
        "\n",
        "    skolemized_formula = formula\n",
        "    for var in existential_vars:\n",
        "        constant_symbol = find_unused_constant(used_constants)\n",
        "        used_constants.add(constant_symbol)\n",
        "\n",
        "        skolemized_formula = skolemized_formula.replace('∃{}'.format(var), '')\n",
        "        skolemized_formula = replace_variable_in_context(skolemized_formula, var, constant_symbol)\n",
        "\n",
        "    return skolemized_formula\n",
        "\n",
        "def find_unused_constant(used_constants):\n",
        "    for letter in \"ABCDEFGHIJKLMNOPQRSTUVWXYZ\":\n",
        "        if letter not in used_constants:\n",
        "            return letter\n",
        "    raise ValueError(\"All uppercase letters used as constants.\")"
      ]
    },
    {
      "cell_type": "markdown",
      "metadata": {
        "id": "O2dCPyXjqQ0H"
      },
      "source": [
        "\n",
        "\n",
        "---\n",
        "\n"
      ]
    },
    {
      "cell_type": "code",
      "execution_count": 588,
      "metadata": {
        "id": "Kye57WBx5Hl4"
      },
      "outputs": [],
      "source": [
        "def drop_universal_quantifiers(formula):\n",
        "    \"\"\"\n",
        "    Eliminates universal quantifiers by instantiating variables with constants.\n",
        "    \"\"\"\n",
        "    formula = formula.strip()\n",
        "    return formula.replace('∀', '').split(None, 1)[-1]"
      ]
    },
    {
      "cell_type": "code",
      "execution_count": 589,
      "metadata": {
        "colab": {
          "base_uri": "https://localhost:8080/"
        },
        "id": "HdIambw45Lbt",
        "outputId": "747b6a05-6685-4725-a2c8-a65b5a9b9939"
      },
      "outputs": [
        {
          "output_type": "stream",
          "name": "stdout",
          "text": [
            "q ∨ p ∧ r ∨ p\n"
          ]
        }
      ],
      "source": [
        "def convert_to_cnf(formula):\n",
        "    \"\"\"\n",
        "    Converts a formula into conjunctive normal form (CNF).\n",
        "    \"\"\"\n",
        "\n",
        "    disjunctive_clauses = formula.split('∨')\n",
        "    cnf_formula = ''\n",
        "    distributed_terms = []\n",
        "\n",
        "    for cl in disjunctive_clauses:\n",
        "\n",
        "      cl = cl.strip()\n",
        "\n",
        "      if '∧' not in cl:\n",
        "        distributed_terms.append(cl)\n",
        "        continue\n",
        "\n",
        "\n",
        "      conjunctive_terms = cl.split('∧')\n",
        "      result = []\n",
        "\n",
        "      for remaining_cl in distributed_terms:\n",
        "        if remaining_cl == cl:\n",
        "          continue\n",
        "\n",
        "        for conjunct_term in conjunctive_terms:\n",
        "          conjunct_term = conjunct_term.strip(' (')\n",
        "          conjunct_term = conjunct_term.rstrip(') ')\n",
        "          result.append(f'{conjunct_term} ∨ {remaining_cl}')\n",
        "\n",
        "        distributed_terms.remove(remaining_cl)\n",
        "      distributed_clause = ' ∧ '.join(result)\n",
        "\n",
        "      distributed_terms.append(distributed_clause)\n",
        "    cnf_formula = ' ∨ '.join(distributed_terms)\n",
        "\n",
        "    return cnf_formula\n",
        "\n",
        "formula = \"p ∨ (q ∧ r)\"\n",
        "cnf_formula = convert_to_cnf(formula)\n",
        "print(cnf_formula)"
      ]
    },
    {
      "cell_type": "code",
      "execution_count": 590,
      "metadata": {
        "id": "RUGYBc9v5ONg"
      },
      "outputs": [],
      "source": [
        "def conjuncts_to_clauses(formula):\n",
        "    \"\"\"\n",
        "    Turns conjunctions into clauses in a set and renames variables to avoid conflicts.\n",
        "    \"\"\"\n",
        "    # conjuncts = formula.split('∧')\n",
        "\n",
        "    # clauses = set()\n",
        "\n",
        "    # for conjunct in conjuncts:\n",
        "\n",
        "    #   literals = conjunct.split('∨')\n",
        "\n",
        "    #   clause = set()\n",
        "\n",
        "    #   for literal in literals:\n",
        "\n",
        "    #     renamed_l = literal.strip().replace('p', 'p' + str(len(clause) + 1))\n",
        "    #     clause.add(renamed_l)\n",
        "\n",
        "    #   clauses.add(frozenset(clause))\n",
        "\n",
        "    return clauses"
      ]
    },
    {
      "cell_type": "code",
      "execution_count": 591,
      "metadata": {
        "id": "AC2PFlIQ5QVQ"
      },
      "outputs": [],
      "source": [
        "def rename_variables_in_clauses(formula):\n",
        "    \"\"\"\n",
        "    Renames variables in clauses so that each clause has a unique variable name.\n",
        "    \"\"\"\n",
        "    return formula"
      ]
    },
    {
      "cell_type": "code",
      "execution_count": 592,
      "metadata": {
        "colab": {
          "base_uri": "https://localhost:8080/"
        },
        "id": "5-s_ASWbDiBf",
        "outputId": "fb22ee3b-910e-4470-ecf5-1a2ce71bc6f8"
      },
      "outputs": [
        {
          "output_type": "stream",
          "name": "stdout",
          "text": [
            "Original formula: ∀x Read(x) → ~Stupid(x)\n",
            "After eliminating implication: ∀x Read(x) ∨ ~Stupid(x)\n",
            "After moving negation inwards: ∀x Read(x) ∨ ~Stupid(x)\n",
            "Removing double not: ∀x Read(x) ∨ ~Stupid(x)\n",
            "After Skolemization: ∀x Read(x) ∨ ~Stupid(x)\n",
            "After Droping Universal Quantifiers: Read(x) ∨ ~Stupid(x)\n",
            "After Converting into CNF: Read(x) ∨ ~Stupid(x)\n",
            "--------------------\n",
            "Original formula: Read(John) ∧ Wealthy(John)\n",
            "After eliminating implication: Read(John) ∧ Wealthy(John)\n",
            "After moving negation inwards: Read(John) ∧ Wealthy(John)\n",
            "Removing double not: Read(John) ∧ Wealthy(John)\n",
            "After Skolemization: Read(John) ∧ Wealthy(John)\n",
            "After Droping Universal Quantifiers: ∧ Wealthy(John)\n",
            "After Converting into CNF: \n",
            "--------------------\n",
            "Original formula: ∀x (Poor(x) → ~Wealthy(x))\n",
            "After eliminating implication: ∀x (~Poor(x) ∨ ~Wealthy(x))\n",
            "After moving negation inwards: ∀x (~Poor(x) ∨ ~Wealthy(x))\n",
            "Removing double not: ∀x (~Poor(x) ∨ ~Wealthy(x))\n",
            "After Skolemization: ∀x (~Poor(x) ∨ ~Wealthy(x))\n",
            "After Droping Universal Quantifiers: (~Poor(x) ∨ ~Wealthy(x))\n",
            "After Converting into CNF: (~Poor(x) ∨ ~Wealthy(x))\n",
            "--------------------\n",
            "Original formula: ∀x Stupid(x) ∨ Smart(x)\n",
            "After eliminating implication: ∀x Stupid(x) ∨ Smart(x)\n",
            "After moving negation inwards: ∀x Stupid(x) ∨ Smart(x)\n",
            "Removing double not: ∀x Stupid(x) ∨ Smart(x)\n",
            "After Skolemization: ∀x Stupid(x) ∨ Smart(x)\n",
            "After Droping Universal Quantifiers: Stupid(x) ∨ Smart(x)\n",
            "After Converting into CNF: Stupid(x) ∨ Smart(x)\n",
            "--------------------\n",
            "Original formula: ∀x ~Poor(x) ∧ Smart(x) → Happy(x)\n",
            "After eliminating implication: ∀x ~Poor(x) ∧ Smart(x) ∨ Happy(x)\n",
            "After moving negation inwards: ∀x ~Poor(x) ∧ Smart(x) ∨ Happy(x)\n",
            "Removing double not: ∀x ~Poor(x) ∧ Smart(x) ∨ Happy(x)\n",
            "After Skolemization: ∀x ~Poor(x) ∧ Smart(x) ∨ Happy(x)\n",
            "After Droping Universal Quantifiers: ~Poor(x) ∧ Smart(x) ∨ Happy(x)\n",
            "After Converting into CNF:  ∨ Happy(x)\n",
            "--------------------\n",
            "Original formula: ∀x ~Exciting(x) → ~Happy(x)\n",
            "After eliminating implication: ∀x ~Exciting(x) ∨ ~Happy(x)\n",
            "After moving negation inwards: ∀x ~Exciting(x) ∨ ~Happy(x)\n",
            "Removing double not: ∀x ~Exciting(x) ∨ ~Happy(x)\n",
            "After Skolemization: ∀x ~Exciting(x) ∨ ~Happy(x)\n",
            "After Droping Universal Quantifiers: ~Exciting(x) ∨ ~Happy(x)\n",
            "After Converting into CNF: ~Exciting(x) ∨ ~Happy(x)\n",
            "--------------------\n"
          ]
        }
      ],
      "source": [
        "for formula in KB:\n",
        "\n",
        "  print(\"Original formula:\", formula)\n",
        "\n",
        "  formula = eliminate_implication(formula)\n",
        "  print(\"After eliminating implication:\", formula)\n",
        "\n",
        "  formula = move_negation_inwards(formula)\n",
        "  print(\"After moving negation inwards:\", formula)\n",
        "\n",
        "  formula = remove_double_not(formula)\n",
        "  print(\"Removing double not:\", formula)\n",
        "\n",
        "  formula = skolemize(formula)\n",
        "  print(\"After Skolemization:\", formula)\n",
        "\n",
        "  formula = drop_universal_quantifiers(formula)\n",
        "  print(\"After Droping Universal Quantifiers:\", formula)\n",
        "\n",
        "  formula = convert_to_cnf(formula)\n",
        "  print(\"After Converting into CNF:\", formula)\n",
        "\n",
        "  # formula = conjuncts_to_clauses(formula)\n",
        "  # print(\"After being turned to a set of clauses:\", formula)\n",
        "\n",
        "  print ( \"--------------------\")\n"
      ]
    },
    {
      "cell_type": "markdown",
      "source": [
        "## Applying Resolution:"
      ],
      "metadata": {
        "id": "JQBAxWUV3D4X"
      }
    },
    {
      "cell_type": "code",
      "source": [],
      "metadata": {
        "id": "rFDN6WRm3IUj"
      },
      "execution_count": null,
      "outputs": []
    }
  ],
  "metadata": {
    "colab": {
      "provenance": [],
      "collapsed_sections": [
        "dkkeHEvR7nB_",
        "tt6MSSWG2g-T"
      ]
    },
    "kernelspec": {
      "display_name": "Python 3",
      "name": "python3"
    },
    "language_info": {
      "name": "python"
    }
  },
  "nbformat": 4,
  "nbformat_minor": 0
}