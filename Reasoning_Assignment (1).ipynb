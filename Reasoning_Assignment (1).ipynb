{
  "cells": [
    {
      "cell_type": "markdown",
      "source": [
        "# Reasoning and Knowledge Representation Assignment\n",
        "\n",
        "Names:\n",
        "\n",
        "*Selsabeel Asim Ali Elbagir, 20210714*\n",
        "\n",
        "*Basma Mahmoud Hashem, 20210091*\n",
        "\n",
        "Section:\n",
        "*S2*"
      ],
      "metadata": {
        "id": "ESlgFueo1_Cd"
      }
    },
    {
      "cell_type": "markdown",
      "metadata": {
        "id": "1lqxebzi7gIy"
      },
      "source": [
        "## Converting to CNF form"
      ]
    },
    {
      "cell_type": "code",
      "execution_count": 375,
      "metadata": {
        "id": "Qy1WHKWzen8B"
      },
      "outputs": [],
      "source": [
        "KB = ['∀x (Read(x) → ~Stupid(x))',\n",
        "      'Read(John) ∧ Wealthy(John)',\n",
        "      '∀x (Poor(x) → ~Wealthy(x))',\n",
        "      '∀x Stupid(x) ∨ Smart(x)',\n",
        "      '∀x ((~Poor(x) ∧ Smart(x)) → Happy(x))',\n",
        "      '∀x (~Exciting(x) → ~Happy(x))']"
      ]
    },
    {
      "cell_type": "markdown",
      "metadata": {
        "id": "dkkeHEvR7nB_"
      },
      "source": [
        "### Helper Functions"
      ]
    },
    {
      "cell_type": "code",
      "execution_count": 376,
      "metadata": {
        "id": "eLDwSdjBe2Xa"
      },
      "outputs": [],
      "source": [
        "import re"
      ]
    },
    {
      "cell_type": "code",
      "execution_count": 377,
      "metadata": {
        "id": "mHphDoDLaEL6"
      },
      "outputs": [],
      "source": [
        "def replace_variable_in_context(formula, variable, replacement):\n",
        "    # Replace the variable with the replacement character or substring in the specified context\n",
        "    tokens = tokenize_formula(formula)\n",
        "    new_tokens = []\n",
        "\n",
        "    for token in tokens:\n",
        "        if token == variable:\n",
        "            # Check if the token satisfies one of the specified conditions\n",
        "            if (\n",
        "                (token + ',') in formula or\n",
        "                (token + ', ') in formula or\n",
        "                (',' + token) in formula or\n",
        "                (', ' + token) in formula or\n",
        "                f'({token})' in formula\n",
        "            ):\n",
        "                new_token = replacement\n",
        "            else:\n",
        "                new_token = token\n",
        "        else:\n",
        "            new_token = token\n",
        "\n",
        "        new_tokens.append(new_token)\n",
        "\n",
        "    return \"\".join(new_tokens)\n",
        "\n",
        "def tokenize_formula(formula):\n",
        "    # Tokenize the formula to identify tokens including brackets, commas, and spaces\n",
        "    tokens = []\n",
        "    current_token = \"\"\n",
        "\n",
        "    for char in formula:\n",
        "        if char in (',', '(', ')'):\n",
        "            if current_token:\n",
        "                tokens.append(current_token.strip())  # Add the trimmed current_token\n",
        "            current_token = \"\"\n",
        "            tokens.append(char)  # Add the bracket or comma as a separate token\n",
        "        elif char.isspace():\n",
        "            if current_token:\n",
        "                tokens.append(current_token.strip())  # Add the trimmed current_token\n",
        "            current_token = \"\"\n",
        "            tokens.append(char)\n",
        "        else:\n",
        "            current_token += char\n",
        "\n",
        "    # Append the last token if it's not empty\n",
        "    if current_token:\n",
        "        tokens.append(current_token.strip())\n",
        "\n",
        "    return tokens"
      ]
    },
    {
      "cell_type": "code",
      "execution_count": 378,
      "metadata": {
        "id": "NFjkbZKevCzN"
      },
      "outputs": [],
      "source": [
        "def replace_operator_in_context(formula_tokens, operator, replacement):\n",
        "    # Replace the operator with the replacement character or substring in the specified context\n",
        "    new_tokens = []\n",
        "\n",
        "    for token in formula_tokens:\n",
        "        if token == operator:\n",
        "            new_token = replacement\n",
        "        else:\n",
        "            new_token = token\n",
        "\n",
        "        new_tokens.append(new_token)\n",
        "\n",
        "    return new_tokens\n"
      ]
    },
    {
      "cell_type": "code",
      "source": [
        "def rename_variables(tokens, quantifier_variable, start_index, end_index):\n",
        "    variable_count = {}\n",
        "    for i in range(start_index, end_index):\n",
        "        token = tokens[i]\n",
        "        if token.isalpha() and token.islower() and token == quantifier_variable:\n",
        "            if token in variable_count:\n",
        "                variable_count[token] += 1\n",
        "            else:\n",
        "                variable_count[token] = 1\n",
        "            new_variable = token + str(variable_count[token])\n",
        "            tokens[i] = new_variable"
      ],
      "metadata": {
        "id": "xSZzcg_pvji_"
      },
      "execution_count": 379,
      "outputs": []
    },
    {
      "cell_type": "code",
      "execution_count": 380,
      "metadata": {
        "id": "gSwGRWeevFPF"
      },
      "outputs": [],
      "source": [
        "def get_surrounding_bracket(formula_tokens, operator):\n",
        "    left_bracket_index = None\n",
        "    right_bracket_index = None\n",
        "    operator_index = None\n",
        "\n",
        "    # Find the index of the operator\n",
        "    for i, token in enumerate(formula_tokens):\n",
        "        if token == operator or token.startswith(operator):\n",
        "            operator_index = i\n",
        "            break\n",
        "\n",
        "    if operator_index is None:\n",
        "        return None, None  # Operator not found\n",
        "\n",
        "    # Find the left bracket index\n",
        "    bracket_counter = 0\n",
        "    for i in range(operator_index - 1, -1, -1):\n",
        "        if formula_tokens[i].startswith(')'):\n",
        "            bracket_counter += 1\n",
        "        elif formula_tokens[i] == '(':\n",
        "            if bracket_counter == 0:\n",
        "                left_bracket_index = i\n",
        "                break\n",
        "            else:\n",
        "                bracket_counter -= 1\n",
        "\n",
        "    # Find the right bracket index\n",
        "    bracket_counter = 0\n",
        "    for i in range(operator_index + 1, len(formula_tokens)):\n",
        "        if formula_tokens[i].startswith('('):\n",
        "            bracket_counter += 1\n",
        "        elif formula_tokens[i] == ')':\n",
        "            if bracket_counter == 0:\n",
        "                right_bracket_index = i\n",
        "                break\n",
        "            else:\n",
        "                bracket_counter -= 1\n",
        "\n",
        "    return left_bracket_index, right_bracket_index\n"
      ]
    },
    {
      "cell_type": "code",
      "execution_count": 381,
      "metadata": {
        "id": "Ucsh0WZTcGw8"
      },
      "outputs": [],
      "source": [
        "def find_matching_parenthesis(tokens, start_index):\n",
        "    bracket_count = 0\n",
        "    for i in range(start_index, len(tokens)):\n",
        "        if tokens[i] == '(':\n",
        "            bracket_count += 1\n",
        "        elif tokens[i] == ')':\n",
        "            bracket_count -= 1\n",
        "            if bracket_count == 0:\n",
        "                return i\n",
        "    return -1\n"
      ]
    },
    {
      "cell_type": "markdown",
      "source": [
        "### The Ten Steps of CNF Conversion"
      ],
      "metadata": {
        "id": "tt6MSSWG2g-T"
      }
    },
    {
      "cell_type": "code",
      "execution_count": 382,
      "metadata": {
        "id": "AtVo1t0PDnF4"
      },
      "outputs": [],
      "source": [
        "def eliminate_implication(formula):\n",
        "  tokens = tokenize_formula(formula)\n",
        "  left_bracket_index, right = get_surrounding_bracket(tokens, '→')\n",
        "  if left_bracket_index is not None and left_bracket_index > 0:\n",
        "    tokens.insert(left_bracket_index + 1 , '~')  # Insert '~' before the left bracket\n",
        "  replaced_tokens = replace_operator_in_context(tokens, '→', '∨')\n",
        "  replaced_formula = \"\".join(replaced_tokens)\n",
        "  return replaced_formula\n"
      ]
    },
    {
      "cell_type": "code",
      "execution_count": 383,
      "metadata": {
        "id": "9HOCpR_JcCha"
      },
      "outputs": [],
      "source": [
        "def move_negation_inwards(formula):\n",
        "    tokens = tokenize_formula(formula)\n",
        "    negation_indices = [i for i, token in enumerate(tokens) if token == '~']\n",
        "\n",
        "    for index in negation_indices:\n",
        "      if index < len(tokens) - 1:  # Check if negation is not the last token\n",
        "        next_token = tokens[index + 1]\n",
        "        if next_token == '(' or next_token.startswith('('):  # Check if negation is followed by a left bracket\n",
        "          right_bracket_index = find_matching_parenthesis(tokens,index+1)\n",
        "          for i in range(index,right_bracket_index):\n",
        "            if tokens[i] == '∧':\n",
        "              tokens[i] = '∨'\n",
        "            elif tokens[i] == '∨':\n",
        "              tokens[i] = '∧'\n",
        "            elif tokens[i].isalpha() and tokens[i][0].isupper():\n",
        "              tokens[i] = '~' + tokens[i]\n",
        "\n",
        "          tokens.pop(index)\n",
        "          tokens[index+1] = '~' + tokens[index+1]\n",
        "    replaced_formula = \"\".join(tokens)\n",
        "    return replaced_formula\n"
      ]
    },
    {
      "cell_type": "code",
      "execution_count": 384,
      "metadata": {
        "id": "mzVIDffvDpqH"
      },
      "outputs": [],
      "source": [
        "def remove_double_not(formula):\n",
        "  tokens = tokenize_formula(formula)\n",
        "  for i, token in enumerate(tokens):\n",
        "    if token.startswith('~~'):\n",
        "      if len(token) == 2:\n",
        "        tokens.removeAt(i)\n",
        "      else:\n",
        "        tokens[i] = token[len('~~'):]\n",
        "    elif token.startswith('~') and tokens[i+2].startswith('~'):\n",
        "      i = i+2\n",
        "      tokens[i] = tokens[i][1:] # removes the ~ before the (\n",
        "      tokens.pop(i-1) # removes the (\n",
        "      tokens.pop(i-2)# removes the ~ before it\n",
        "      tokens.pop(i+1) #removes the ) of the scope\n",
        "\n",
        "\n",
        "  return \"\".join(tokens)"
      ]
    },
    {
      "cell_type": "code",
      "execution_count": 385,
      "metadata": {
        "id": "kKsD72QNDuTq",
        "colab": {
          "base_uri": "https://localhost:8080/"
        },
        "outputId": "40d3afb9-bcc9-4266-99e1-d31f20dba353"
      },
      "outputs": [
        {
          "output_type": "stream",
          "name": "stdout",
          "text": [
            "Standardized formula: ∀x (P(x)) ∀x (Q(x1, y))\n"
          ]
        }
      ],
      "source": [
        "def standardize_variables(formula):\n",
        "    tokens = tokenize_formula(formula)\n",
        "    size = len(tokens)\n",
        "    i = 0\n",
        "    while i < size:\n",
        "        if tokens[i].startswith('∀') or tokens[i].startswith('∃'):\n",
        "            quantifier_variable = tokens[i][1]  # get the variable of the quantifier\n",
        "            if tokens[i+1] == '(':\n",
        "              start_scope_index = i + 1\n",
        "            elif tokens[i+2] == '(' and tokens[i+1] == ' ':\n",
        "              start_scope_index = i + 2  # gets the index of the (, beginning of our scope\n",
        "\n",
        "            end_scope_index = find_matching_parenthesis(tokens, start_scope_index)\n",
        "            # Rename variables within the scope of the quantifier\n",
        "            rename_variables(tokens, quantifier_variable, end_scope_index, size)\n",
        "            i = end_scope_index + 1\n",
        "        else:\n",
        "            i += 1\n",
        "\n",
        "    standardized_formula = \"\".join(tokens)\n",
        "    return standardized_formula\n",
        "\n",
        "ex = \"∀x (P(x)) ∀x (Q(x, y))\"\n",
        "standardized_formula = standardize_variables(ex)\n",
        "print(\"Standardized formula:\", standardized_formula)"
      ]
    },
    {
      "cell_type": "code",
      "execution_count": 386,
      "metadata": {
        "colab": {
          "base_uri": "https://localhost:8080/"
        },
        "id": "ShPKeumwEKrg",
        "outputId": "3a0d16b6-058d-4216-947e-9877b12b83aa"
      },
      "outputs": [
        {
          "output_type": "stream",
          "name": "stdout",
          "text": [
            "Original formula: ∀x (P(x, y) ∧ ∃y Q(x))\n",
            "Prenex form: ∀x∃y (P(x, y) ∧  Q(x))\n"
          ]
        }
      ],
      "source": [
        "def prenex_form(input_formula):\n",
        "    tokens = tokenize_formula(input_formula)\n",
        "    prenex_part = []  # Will store the quantifiers and their variables\n",
        "    matrix_part = []  # Will store the matrix part of the formula (without quantifiers)\n",
        "    i = 0\n",
        "    while i < len(tokens):\n",
        "        token = tokens[i]\n",
        "        if token.startswith('∀') or token.startswith('∃'):  # Quantifiers\n",
        "            quantifier = token\n",
        "            variables = []\n",
        "            # Extract variables until the next token is not a variable\n",
        "            while i + 1 < len(tokens) and tokens[i + 1].isalnum():\n",
        "                variables.append(tokens[i + 1])\n",
        "                i += 1\n",
        "            prenex_part.append((quantifier, variables))\n",
        "        else:\n",
        "            matrix_part.append(token)\n",
        "        i += 1\n",
        "\n",
        "    # Reconstruct the formula with quantifiers moved to the left\n",
        "    prenex_formula = \"\"\n",
        "    for quantifier, variables in prenex_part:\n",
        "        prenex_formula += quantifier + ' '.join(variables)\n",
        "    prenex_formula += ''.join(matrix_part)\n",
        "\n",
        "    return prenex_formula\n",
        "\n",
        "formula = \"∀x (P(x, y) ∧ ∃y Q(x))\"\n",
        "print(\"Original formula:\", formula)\n",
        "\n",
        "prenex_formula = prenex_form(formula)\n",
        "print(\"Prenex form:\", prenex_formula)"
      ]
    },
    {
      "cell_type": "markdown",
      "metadata": {
        "id": "sRcRZ-et5XuA"
      },
      "source": [
        "\n",
        "\n",
        "---\n",
        "\n",
        "---\n",
        "\n",
        "\n",
        "\n",
        "---\n",
        "\n",
        "\n",
        "\n"
      ]
    },
    {
      "cell_type": "code",
      "execution_count": 387,
      "metadata": {
        "id": "A0la-NBc3z0a"
      },
      "outputs": [],
      "source": [
        "def skolemize(formula):\n",
        "    replaced_variables = set()  # Initialize an empty set to store variables that have been replaced\n",
        "    skolemized_formula = formula.strip()\n",
        "\n",
        "    while '∃' in skolemized_formula:\n",
        "        existential_vars = extract_variables(skolemized_formula, '∃')\n",
        "\n",
        "        existential_vars = [var for var in existential_vars if var not in replaced_variables]\n",
        "\n",
        "        if not existential_vars:\n",
        "            break\n",
        "\n",
        "        if '∀' in skolemized_formula:\n",
        "            universal_vars = extract_variables(skolemized_formula, '∀')\n",
        "\n",
        "            skolemized_formula = replace_with_skolem_functions(skolemized_formula, existential_vars, universal_vars)\n",
        "        else:\n",
        "            skolemized_formula = replace_with_constants(skolemized_formula, existential_vars)\n",
        "\n",
        "        replaced_variables.update(existential_vars)\n",
        "\n",
        "        skolemized_formula = skolemized_formula.strip()\n",
        "\n",
        "    return skolemized_formula"
      ]
    },
    {
      "cell_type": "code",
      "execution_count": 388,
      "metadata": {
        "id": "Jd6Jw7ruB6FJ"
      },
      "outputs": [],
      "source": [
        "def extract_variables(formula, quantifier):\n",
        "    return [term[1] for term in formula.split() if term[0] == quantifier]"
      ]
    },
    {
      "cell_type": "code",
      "execution_count": 389,
      "metadata": {
        "id": "0g-cYxuqB8O0"
      },
      "outputs": [],
      "source": [
        "def replace_with_skolem_functions(formula, existential_vars, universal_vars):\n",
        "    \"\"\"\n",
        "    Replaces existential variables with skolem functions based on the universal variables.\n",
        "    \"\"\"\n",
        "    skolemized_formula = formula\n",
        "    counter = 1\n",
        "    for var in existential_vars:\n",
        "        skolem_func = find_skolem_function(counter, universal_vars)\n",
        "\n",
        "        skolemized_formula = skolemized_formula.replace('∃{}'.format(var), '')\n",
        "        skolemized_formula = replace_variable_in_context(skolemized_formula, var, skolem_func)\n",
        "        counter += 1\n",
        "\n",
        "    return skolemized_formula\n",
        "\n",
        "def find_skolem_function(counter, universal_vars):\n",
        "    \"\"\"\n",
        "    Generates a skolem function based on the universal variables and a counter.\n",
        "    \"\"\"\n",
        "    return 'F{}({})'.format(counter, ','.join(universal_vars))"
      ]
    },
    {
      "cell_type": "code",
      "execution_count": 390,
      "metadata": {
        "id": "xAb9P-w9B90x"
      },
      "outputs": [],
      "source": [
        "def replace_with_constants(formula, existential_vars):\n",
        "    \"\"\"\n",
        "    Replaces existential quantified variables with unique constant symbols.\n",
        "    \"\"\"\n",
        "    used_constants = set()\n",
        "\n",
        "    skolemized_formula = formula\n",
        "    for var in existential_vars:\n",
        "        constant_symbol = find_unused_constant(used_constants)\n",
        "        used_constants.add(constant_symbol)\n",
        "\n",
        "        skolemized_formula = skolemized_formula.replace('∃{}'.format(var), '')\n",
        "        skolemized_formula = replace_variable_in_context(skolemized_formula, var, constant_symbol)\n",
        "\n",
        "    return skolemized_formula\n",
        "\n",
        "def find_unused_constant(used_constants):\n",
        "    for letter in \"ABCDEFGHIJKLMNOPQRSTUVWXYZ\":\n",
        "        if letter not in used_constants:\n",
        "            return letter\n",
        "    raise ValueError(\"All uppercase letters used as constants.\")"
      ]
    },
    {
      "cell_type": "markdown",
      "metadata": {
        "id": "O2dCPyXjqQ0H"
      },
      "source": [
        "\n",
        "\n",
        "---\n",
        "\n"
      ]
    },
    {
      "cell_type": "code",
      "execution_count": 391,
      "metadata": {
        "id": "Kye57WBx5Hl4"
      },
      "outputs": [],
      "source": [
        "def drop_universal_quantifiers(formula):\n",
        "    \"\"\"\n",
        "    Eliminates universal quantifiers by removing both the quantifier and the character after it.\n",
        "    \"\"\"\n",
        "    while '∀' in formula:\n",
        "        index = formula.index('∀')\n",
        "        formula = formula[:index] + formula[index+2:]  # Removing both '∀' and the character after it\n",
        "    formula = formula.strip()\n",
        "    return formula"
      ]
    },
    {
      "cell_type": "code",
      "execution_count": 392,
      "metadata": {
        "id": "HdIambw45Lbt"
      },
      "outputs": [],
      "source": [
        "def convert_to_CNF(formula):\n",
        "    \"\"\"\n",
        "    Converts a formula to Conjunctive Normal Form (CNF).\n",
        "    \"\"\"\n",
        "\n",
        "    if '∨' not in formula or '∧' not in formula:\n",
        "        return formula\n",
        "\n",
        "    disjunctive_parts = formula.split('∨')\n",
        "\n",
        "    cnf_components = []\n",
        "    result = []\n",
        "\n",
        "    for disjunctive_part in disjunctive_parts:\n",
        "        if '∧' in disjunctive_part:\n",
        "            conjunctive_parts = disjunctive_part.split('∧')\n",
        "            for part in conjunctive_parts:\n",
        "                cnf_components.append(part.strip())\n",
        "        else:\n",
        "          for conjunct_part in cnf_components:\n",
        "            result.append(conjunct_part + ' ∨ ' + disjunctive_part.strip())\n",
        "\n",
        "    cnf_formula = ' ∧ '.join(result)\n",
        "\n",
        "    return cnf_formula"
      ]
    },
    {
      "cell_type": "code",
      "source": [
        "def split_into_clauses(formula):\n",
        "    conjunctions = formula.split('∧')\n",
        "    clauses = []\n",
        "    for conjunction in conjunctions:\n",
        "        clauses.append(conjunction.strip())\n",
        "    return clauses"
      ],
      "metadata": {
        "id": "kVWhRTnA52jm"
      },
      "execution_count": 393,
      "outputs": []
    },
    {
      "cell_type": "code",
      "source": [
        "import string\n",
        "\n",
        "def number_to_alphabet(num):\n",
        "    alphabet = string.ascii_lowercase\n",
        "    result = \"\"\n",
        "    while num:\n",
        "        num, remainder = divmod(num - 1, 26)\n",
        "        result = alphabet[remainder] + result\n",
        "    return result\n"
      ],
      "metadata": {
        "id": "OXHGiHAfIG7i"
      },
      "execution_count": 394,
      "outputs": []
    },
    {
      "cell_type": "code",
      "source": [
        "import random\n",
        "random.seed(42)\n",
        "def rename_variables_in_clauses(clauses):\n",
        "    variables = []\n",
        "    for i,clause in enumerate(clauses):\n",
        "        if clause is None:\n",
        "            continue\n",
        "        tokens_of_clause = tokenize_formula(clause)\n",
        "        stored_indices= []\n",
        "        for j,token in enumerate(tokens_of_clause):\n",
        "          if token.startswith(')') and tokens_of_clause[j-2].startswith('(') and tokens_of_clause[j-1].islower():\n",
        "            stored_indices.append(j-1)\n",
        "\n",
        "\n",
        "        for index_of_variable in stored_indices:\n",
        "          myvariable = tokens_of_clause[index_of_variable]\n",
        "          if myvariable.islower():\n",
        "            variables.append(myvariable)\n",
        "            variablesset = set(variables)\n",
        "            if len(variablesset) != len(variables):\n",
        "              variables.remove(myvariable)\n",
        "              myvariable = number_to_alphabet(index_of_variable)\n",
        "              if myvariable in variables:\n",
        "                myvariable = number_to_alphabet(index_of_variable + random.randint(1,13))\n",
        "              variables.append(myvariable)\n",
        "            #clauses[i] = clause.replace(tokens_of_clause[index_of_variable], myvariable)\n",
        "\n",
        "        for index_of_variable in stored_indices:\n",
        "          if len(tokens_of_clause[index_of_variable]) == 1:\n",
        "            tokens_of_clause[index_of_variable] = myvariable\n",
        "          clauses[i] = ''.join(tokens_of_clause)\n",
        "\n",
        "    return clauses\n",
        "\n",
        "test = ['(Poor(x) ∨ Happy(x))', 'Smart(x) ∨ Happy(x))']\n",
        "test2 = ['(Read(x)', '~Stupid(x))']\n",
        "test3 = ['Read(John)', 'Wealthy(John)']\n",
        "print(rename_variables_in_clauses(test))\n",
        "print(rename_variables_in_clauses(test2))\n",
        "print(rename_variables_in_clauses(test3))"
      ],
      "metadata": {
        "colab": {
          "base_uri": "https://localhost:8080/"
        },
        "id": "T3CNrEOk6iwQ",
        "outputId": "eab75fac-b91a-43a3-c760-1dbe843daecc"
      },
      "execution_count": 447,
      "outputs": [
        {
          "output_type": "stream",
          "name": "stdout",
          "text": [
            "['(Poor(j) ∨ Happy(j))', 'Smart(i) ∨ Happy(i))']\n",
            "['(Read(x)', '~Stupid(b))']\n",
            "['Read(John)', 'Wealthy(John)']\n"
          ]
        }
      ]
    },
    {
      "cell_type": "code",
      "source": [
        "final_clauses = []\n",
        "\n",
        "sentences = [\"∀x ~(Read(x) → Stupid(x))\", \"Read(John) ∧ Wealthy(John)\", \"∀x(Poor(x) → ~Wealthy(x))\",\n",
        "             \"∀x(Stupid(x) ∨ Smart(x))\", \"∀x(~Poor(x) ∧ Smart(x) → Happy(x))\", \"∀x(~Exciting(x) → ~Happy(x))\"]\n",
        "\n",
        "for sentence in sentences:\n",
        "  print(\"Original formula:\", sentence)\n",
        "\n",
        "  eliminated_formula = eliminate_implication(sentence)\n",
        "  if eliminated_formula != sentence:\n",
        "    print(\"After eliminating implication:\", eliminated_formula)\n",
        "\n",
        "  negated_inward_formula = move_negation_inwards(eliminated_formula)\n",
        "  if negated_inward_formula != eliminated_formula:\n",
        "    print(\"After moving negation inwards:\", negated_inward_formula)\n",
        "\n",
        "  removed_formula = remove_double_not(negated_inward_formula)\n",
        "  if removed_formula != negated_inward_formula:\n",
        "    print(\"Removing double not:\", removed_formula)\n",
        "\n",
        "  standardized_formula = standardize_variables(removed_formula)\n",
        "  if standardized_formula != removed_formula:\n",
        "    print(\"After standardizing variables:\", standardized_formula)\n",
        "\n",
        "  prenex_formula = prenex_form(standardized_formula)\n",
        "  if prenex_formula != standardized_formula:\n",
        "    print(\"After prenex form:\", prenex_formula)\n",
        "\n",
        "  skolemized_formula = skolemize(prenex_formula)\n",
        "  if skolemized_formula != prenex_formula:\n",
        "    print(\"After skolemizing:\", skolemized_formula)\n",
        "\n",
        "  dropped_formula = drop_universal_quantifiers(skolemized_formula)\n",
        "  if dropped_formula != skolemized_formula:\n",
        "    print(\"After dropping universal quantifiers:\", dropped_formula)\n",
        "\n",
        "  CNF_formula = convert_to_CNF(dropped_formula)\n",
        "  if CNF_formula != dropped_formula:\n",
        "    print(\"After converting to CNF:\", CNF_formula)\n",
        "\n",
        "  split_formula = split_into_clauses(CNF_formula)\n",
        "  if split_formula != CNF_formula:\n",
        "    print(\"After splitting into clauses:\", split_formula)\n",
        "\n",
        "\n",
        "  final_clauses.extend(split_formula)\n",
        "\n",
        "  print ( \"--------------------\")\n",
        "\n",
        "final_clauses = rename_variables_in_clauses(final_clauses)\n",
        "print(f\"After renaming variables: \", final_clauses)"
      ],
      "metadata": {
        "colab": {
          "base_uri": "https://localhost:8080/"
        },
        "id": "7r-kYjEAEQ80",
        "outputId": "b1cda579-7ac4-47d3-ff0d-56834b2f4e1b"
      },
      "execution_count": 451,
      "outputs": [
        {
          "output_type": "stream",
          "name": "stdout",
          "text": [
            "Original formula: ∀x ~(Read(x) → Stupid(x))\n",
            "After eliminating implication: ∀x ~(~Read(x) ∨ Stupid(x))\n",
            "After moving negation inwards: ∀x (~~Read(x) ∧ ~Stupid(x))\n",
            "Removing double not: ∀x (Read(x) ∧ ~Stupid(x))\n",
            "After dropping universal quantifiers: (Read(x) ∧ ~Stupid(x))\n",
            "After splitting into clauses: ['(Read(x)', '~Stupid(x))']\n",
            "--------------------\n",
            "Original formula: Read(John) ∧ Wealthy(John)\n",
            "After splitting into clauses: ['Read(John)', 'Wealthy(John)']\n",
            "--------------------\n",
            "Original formula: ∀x(Poor(x) → ~Wealthy(x))\n",
            "After eliminating implication: ∀x(~Poor(x) ∨ ~Wealthy(x))\n",
            "After dropping universal quantifiers: (~Poor(x) ∨ ~Wealthy(x))\n",
            "After splitting into clauses: ['(~Poor(x) ∨ ~Wealthy(x))']\n",
            "--------------------\n",
            "Original formula: ∀x(Stupid(x) ∨ Smart(x))\n",
            "After dropping universal quantifiers: (Stupid(x) ∨ Smart(x))\n",
            "After splitting into clauses: ['(Stupid(x) ∨ Smart(x))']\n",
            "--------------------\n",
            "Original formula: ∀x(~Poor(x) ∧ Smart(x) → Happy(x))\n",
            "After eliminating implication: ∀x(~~Poor(x) ∧ Smart(x) ∨ Happy(x))\n",
            "Removing double not: ∀x(Poor(x) ∧ Smart(x) ∨ Happy(x))\n",
            "After dropping universal quantifiers: (Poor(x) ∧ Smart(x) ∨ Happy(x))\n",
            "After converting to CNF: (Poor(x) ∨ Happy(x)) ∧ Smart(x) ∨ Happy(x))\n",
            "After splitting into clauses: ['(Poor(x) ∨ Happy(x))', 'Smart(x) ∨ Happy(x))']\n",
            "--------------------\n",
            "Original formula: ∀x(~Exciting(x) → ~Happy(x))\n",
            "After eliminating implication: ∀x(~~Exciting(x) ∨ ~Happy(x))\n",
            "Removing double not: ∀x(Exciting(x) ∨ ~Happy(x))\n",
            "After dropping universal quantifiers: (Exciting(x) ∨ ~Happy(x))\n",
            "After splitting into clauses: ['(Exciting(x) ∨ ~Happy(x))']\n",
            "--------------------\n",
            "After renaming variables:  ['(Read(x)', '~Stupid(b))', 'Read(John)', 'Wealthy(John)', '(~Poor(j) ∨ ~Wealthy(j))', '(Stupid(v) ∨ Smart(v))', '(Poor(u) ∨ Happy(u))', 'Smart(i) ∨ Happy(i))', '(Exciting(l) ∨ ~Happy(l))']\n"
          ]
        }
      ]
    },
    {
      "cell_type": "markdown",
      "source": [
        "## Applying Resolution:"
      ],
      "metadata": {
        "id": "JQBAxWUV3D4X"
      }
    },
    {
      "cell_type": "code",
      "source": [
        "def format_string(input_string):\n",
        "\n",
        "    formatted_string = ''\n",
        "    prev_char = ''\n",
        "    for char in input_string:\n",
        "        if prev_char == '(' and char == '(':\n",
        "            continue\n",
        "        if prev_char == ')' and char == ')':\n",
        "            continue\n",
        "        formatted_string += char\n",
        "        prev_char = char\n",
        "\n",
        "    while formatted_string and formatted_string[0] == '(':\n",
        "        formatted_string = formatted_string[1:]\n",
        "\n",
        "    return formatted_string"
      ],
      "metadata": {
        "id": "-ZP_PePaMYpe"
      },
      "execution_count": 452,
      "outputs": []
    },
    {
      "cell_type": "code",
      "source": [
        "final_clauses = [format_string(cl) for cl in final_clauses]\n",
        "print(final_clauses)"
      ],
      "metadata": {
        "colab": {
          "base_uri": "https://localhost:8080/"
        },
        "id": "56wENHLYNnCV",
        "outputId": "4ea67b12-7678-437e-bb08-eb835c67ec05"
      },
      "execution_count": 456,
      "outputs": [
        {
          "output_type": "stream",
          "name": "stdout",
          "text": [
            "['Read(x)', '~Stupid(b)', 'Read(John)', 'Wealthy(John)', '~Poor(j) ∨ ~Wealthy(j)', 'Stupid(v) ∨ Smart(v)', 'Poor(u) ∨ Happy(u)', 'Smart(i) ∨ Happy(i)', 'Exciting(l) ∨ ~Happy(l)']\n"
          ]
        }
      ]
    },
    {
      "cell_type": "code",
      "source": [],
      "metadata": {
        "id": "rFDN6WRm3IUj"
      },
      "execution_count": 456,
      "outputs": []
    }
  ],
  "metadata": {
    "colab": {
      "provenance": []
    },
    "kernelspec": {
      "display_name": "Python 3",
      "name": "python3"
    },
    "language_info": {
      "name": "python"
    }
  },
  "nbformat": 4,
  "nbformat_minor": 0
}